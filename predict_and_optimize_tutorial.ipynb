{
 "cells": [
  {
   "cell_type": "code",
   "execution_count": 1,
   "metadata": {},
   "outputs": [
    {
     "name": "stderr",
     "output_type": "stream",
     "text": [
      "/home/alan/Desktop/envs/pao_env/lib/python3.8/site-packages/tqdm/auto.py:22: TqdmWarning: IProgress not found. Please update jupyter and ipywidgets. See https://ipywidgets.readthedocs.io/en/stable/user_install.html\n",
      "  from .autonotebook import tqdm as notebook_tqdm\n"
     ]
    }
   ],
   "source": [
    "import pandas as pd\n",
    "import numpy as np\n",
    "import random\n",
    "\n",
    "import feat_eng as fe\n",
    "import data_selector_items as dsi\n",
    "import params_newsvendor as prm\n",
    "\n",
    "import torch\n",
    "import torch.nn as nn\n",
    "import torch.optim as optim\n",
    "\n",
    "from mip import Model, xsum, minimize, INTEGER, CONTINUOUS, CutType, OptimizationStatus\n",
    "\n",
    "from qpth.qp import QPFunction\n",
    "\n",
    "from joblib import Parallel, delayed"
   ]
  },
  {
   "cell_type": "markdown",
   "metadata": {},
   "source": [
    "## Introduction\n",
    "\n",
    "#### This tutorial is connected to the paper \"Predict-and-Optimize: A survey on problem variations and approaches.\" Here, we aim to show that finding data-driven decisions (from an incomplete but predictable Optimization Problem) using Gradient Descent approaches with Operational loss functions (combined approaches) usually is better than separating your predictions from the Optimization Problem (decoupled approaches).\n",
    "\n",
    "##### Decoupled approaches: First uses Machine Learning techniques to find predictions. And then uses those predictions to formulate and solve an Optimization Problem.\n",
    "\n",
    "##### Combined approaches: Uses Machine Learning and Mathematical Programming techniques in each step of the learning to solve the incomplete Optimization Problem "
   ]
  },
  {
   "cell_type": "markdown",
   "metadata": {},
   "source": [
    "***\n",
    "$\\mathbf{\\text{Table of content}}$<br>\n",
    "\n",
    "$\\mathbf{\\text{0. Data}}$<br>\n",
    "\n",
    "$\\mathbf{\\text{1. Vanilla Newsvendor Problem}}$<br>\n",
    "\n",
    "1.1 Decoupled approach\n",
    "\n",
    "1.2 Combined approach\n",
    "\n",
    "1.3 Regret evaluation\n",
    "\n",
    "$\\mathbf{\\text{2. Adding a Budget and Capacity constraints}}$<br>\n",
    "\n",
    "2.1 Decoupled approach\n",
    "   \n",
    "2.2 Combined state-of-the-art approach (KKT differentiation)\n",
    "\n",
    "2.3 Regret evaluation\n",
    "\n",
    "$\\mathbf{\\text{3. Adding Integrality constraints (Discrete OP)}}$<br>\n",
    "\n",
    "3.1 Decoupled approach\n",
    "\n",
    "3.2 Combined state-of-the-art approach (Gomory cuts + KKT differentiation)\n",
    "\n",
    "3.3 Regret evaluation"
   ]
  },
  {
   "cell_type": "markdown",
   "metadata": {},
   "source": [
    "## 0. Data"
   ]
  },
  {
   "cell_type": "code",
   "execution_count": 2,
   "metadata": {},
   "outputs": [],
   "source": [
    "# Setting the seeds to allow replication\n",
    "seed_number = 0\n",
    "np.random.seed(seed_number)\n",
    "torch.manual_seed(seed_number)\n",
    "random.seed(seed_number)"
   ]
  },
  {
   "cell_type": "code",
   "execution_count": 3,
   "metadata": {},
   "outputs": [],
   "source": [
    "# Path of data files\n",
    "path_data = './data/'\n",
    "\n",
    "# Read historical data\n",
    "sales = pd.read_csv(path_data + 'sales_train_evaluation.csv')\n",
    "\n",
    "# First day to be considered in the data\n",
    "start_day = 1300\n",
    "\n",
    "# N of items to use\n",
    "n_items = 50\n",
    "\n",
    "# All useful items\n",
    "sku_ids = dsi.select_items(sales, start_day)\n",
    "\n",
    "# Sample only n_items to use\n",
    "random.seed(seed_number)\n",
    "sku_ids = random.sample(sku_ids, n_items)\n",
    "sku_ids = list(set(sku_ids))\n",
    "n_items = len(sku_ids)\n",
    "\n",
    "# Split data percentage [train, val, test]\n",
    "split_perc = [0.5, 0.25, 0.25]\n",
    "# Build training and test from historical data\n",
    "data_train, data_val, data_test, feat, n_items = fe.build_data(\n",
    "    path_data, sales, sku_ids, split_perc, start_day)\n",
    "\n",
    "data_train.fillna(0, inplace=True)\n",
    "data_val.fillna(0, inplace=True)\n",
    "data_test.fillna(0, inplace=True)\n",
    "\n",
    "dx = len(feat)\n",
    "\n",
    "# Number of iterations in the training\n",
    "N_it = 500\n",
    "\n",
    "# Number of training samples in the SGDs\n",
    "n_batches = 20\n",
    "\n",
    "batches_idx = []\n",
    "for i in range(0, N_it):\n",
    "    days = data_train['d'].unique()\n",
    "    idx = data_train[data_train['d'].isin(\n",
    "        np.random.choice(days, n_batches))].index.tolist()\n",
    "    if len(idx) == n_items*n_batches:\n",
    "        batches_idx.append(idx)\n",
    "\n",
    "# Here we change a bit the test data in order to increase the integrality gap \n",
    "# of the optimization problem (didactic purpose). Otherwise the Continuous and \n",
    "# Discrete version would have approximately the same results.\n",
    "data_train['qty'] = data_train['qty']*np.random.normal(1, 0.07)\n",
    "data_val['qty'] = data_val['qty']*np.random.normal(1, 0.07)\n",
    "data_test['qty'] = data_test['qty']*np.random.normal(1, 0.07)\n",
    "        \n",
    "X_train = torch.tensor(np.array(data_train[feat]).astype('double'), requires_grad= True)\n",
    "y_train = torch.tensor(np.array(data_train['qty']).astype('double'), requires_grad= True)\n",
    "\n",
    "X_val = torch.tensor(np.array(data_val[feat]).astype('double'), requires_grad= True)\n",
    "y_val = torch.tensor(np.array(data_val['qty']).astype('double'), requires_grad= True)\n",
    "\n",
    "X_test = torch.tensor(np.array(data_test[feat]).astype('double'), requires_grad= True)\n",
    "y_test = torch.tensor(np.array(data_test['qty']).astype('double'), requires_grad= True)"
   ]
  },
  {
   "cell_type": "markdown",
   "metadata": {},
   "source": [
    "## 1. Vanilla Newsvendor Problem"
   ]
  },
  {
   "cell_type": "markdown",
   "metadata": {},
   "source": [
    "***\n",
    "$\\mathbf{\\text{Notation}}$<br>\n",
    "***\n",
    "\n",
    "\\begin{align}\n",
    "&f_{day}: \\text{Objective (Cost) Function for the } I^{th} \\text{ day of sales}\\\\\n",
    "&z: \\text{Decision Variable (Orders to make for each item)}\\\\\n",
    "&y_I: \\text{Unknown but predictable parameter (Demand for each item for the day I)}\\\\\\\\\n",
    "\\end{align}\n",
    "\n",
    "***\n",
    "$\\mathbf{\\text{Deterministic Parameters}}$<br>\n",
    "***\n",
    "\n",
    "\\begin{align}\n",
    "&c: \\text{ Linear constant for transport cost }  \\\\\n",
    "&c_s: \\text{Linear constant for shortage cost  }  \\\\\n",
    "&c_w: \\text{Linear constant for excess cost } \\\\\\\\\n",
    "\\end{align}\n",
    "\n",
    "***\n",
    "$\\mathbf{\\text{Objective function}}$<br>\n",
    "***\n",
    "\n",
    "\\begin{align}\n",
    "f(z,y_I) = c^Tz + c_s^T max(0, y_I-z) + c_w^T max(0, z-y_I)\n",
    "\\end{align}"
   ]
  },
  {
   "cell_type": "code",
   "execution_count": 4,
   "metadata": {},
   "outputs": [],
   "source": [
    "params_t, params_np = prm.get_params(n_items, is_discrete=False, \n",
    "                                     q_factor = 0.01, \n",
    "                                     seed_number=0)"
   ]
  },
  {
   "cell_type": "code",
   "execution_count": 5,
   "metadata": {},
   "outputs": [
    {
     "name": "stdout",
     "output_type": "stream",
     "text": [
      "Example of deterministic parameters: tensor([147., 121.])\n"
     ]
    }
   ],
   "source": [
    "print('Example of deterministic parameters:', params_t['cs'][:2])"
   ]
  },
  {
   "cell_type": "code",
   "execution_count": 6,
   "metadata": {},
   "outputs": [],
   "source": [
    "cost_per_item = lambda Z, Y : params_t['c']*Z \\\n",
    "                            + params_t['cs']*torch.max(torch.zeros((n_items)),Y-Z) \\\n",
    "                            + params_t['cw']*torch.max(torch.zeros((n_items)),Z-Y)\n",
    "\n",
    "\n",
    "def reshape_outcomes(y_pred, y):\n",
    "    y_pred = torch.reshape(y_pred, (y_pred.shape[0]//n_items, n_items))\n",
    "    y = torch.reshape(y, (y.shape[0]//n_items, n_items))\n",
    "    return y_pred, y\n",
    "\n",
    "def calc_f_por_item(y_pred, y):\n",
    "    y_pred, y = reshape_outcomes(y_pred, y)\n",
    "    z_star =  argmin_solver(y_pred)\n",
    "    f_per_item = cost_per_item(z_star, y)\n",
    "    return f_per_item\n",
    "\n",
    "def calc_f_per_day(y_pred, y):\n",
    "    f_per_item = calc_f_por_item(y_pred, y)\n",
    "    f = torch.sum(f_per_item, 1)\n",
    "    return f"
   ]
  },
  {
   "cell_type": "markdown",
   "metadata": {},
   "source": [
    "### 1.1 Vanilla Newsvendor Problem - Decoupled Approach"
   ]
  },
  {
   "cell_type": "code",
   "execution_count": 7,
   "metadata": {},
   "outputs": [],
   "source": [
    "#################################################################################\n",
    "## Model (h: X->Y) constructor ##################################################\n",
    "#################################################################################\n",
    "\n",
    "class ANN(nn.Module):\n",
    "    # Initialize the layers\n",
    "    def __init__(self, n_feat):\n",
    "        super().__init__()\n",
    "        \n",
    "        self.linear1 = nn.Linear(n_feat, 8).double()\n",
    "        self.act1 = nn.ReLU() # Activation function\n",
    "        self.linear2 = nn.Linear(8, 1).double()\n",
    "        self.act2 = nn.ReLU() # Activation function\n",
    "    \n",
    "    # Perform the computation\n",
    "    def forward(self, x):\n",
    "        x = self.linear1(x)\n",
    "        x = self.act1(x)\n",
    "        x = self.linear2(x)\n",
    "        x = self.act2(x)\n",
    "        return x\n",
    "    \n",
    "    \n",
    "# Decoupled approach (mse loss)\n",
    "h = ANN(n_feat=dx)\n",
    "opt_h = torch.optim.Adam(h.parameters(), lr=0.012)\n",
    "mse_loss = nn.MSELoss()"
   ]
  },
  {
   "cell_type": "code",
   "execution_count": 8,
   "metadata": {},
   "outputs": [
    {
     "name": "stdout",
     "output_type": "stream",
     "text": [
      "DECOUPLED: Train:  rmse: 140.25 \tVal:  rmse: 127.71\n",
      "DECOUPLED: Train:  rmse: 91.76 \tVal:  rmse: 86.48\n",
      "DECOUPLED: Train:  rmse: 72.12 \tVal:  rmse: 61.87\n",
      "DECOUPLED: Train:  rmse: 71.2 \tVal:  rmse: 61.08\n",
      "DECOUPLED: Train:  rmse: 68.91 \tVal:  rmse: 61.43\n",
      "DECOUPLED: Train:  rmse: 66.11 \tVal:  rmse: 57.22\n",
      "DECOUPLED: Train:  rmse: 65.15 \tVal:  rmse: 56.67\n",
      "DECOUPLED: Train:  rmse: 65.17 \tVal:  rmse: 57.65\n",
      "DECOUPLED: Train:  rmse: 64.28 \tVal:  rmse: 56.05\n",
      "DECOUPLED: Train:  rmse: 64.06 \tVal:  rmse: 56.46\n",
      "DECOUPLED: Train:  rmse: 63.64 \tVal:  rmse: 55.94\n",
      "DECOUPLED: Train:  rmse: 63.46 \tVal:  rmse: 55.48\n",
      "DECOUPLED: Train:  rmse: 63.36 \tVal:  rmse: 55.4\n",
      "DECOUPLED: Train:  rmse: 63.31 \tVal:  rmse: 55.76\n",
      "DECOUPLED: Train:  rmse: 63.2 \tVal:  rmse: 55.34\n",
      "DECOUPLED: Train:  rmse: 63.18 \tVal:  rmse: 55.73\n",
      "DECOUPLED: Train:  rmse: 63.11 \tVal:  rmse: 55.24\n",
      "DECOUPLED: Train:  rmse: 63.13 \tVal:  rmse: 55.66\n",
      "DECOUPLED: Train:  rmse: 63.01 \tVal:  rmse: 55.28\n",
      "DECOUPLED: Train:  rmse: 63.47 \tVal:  rmse: 55.19\n",
      "DECOUPLED: Train:  rmse: 63.89 \tVal:  rmse: 56.96\n",
      "DECOUPLED: Train:  rmse: 63.24 \tVal:  rmse: 55.07\n",
      "DECOUPLED: Train:  rmse: 62.87 \tVal:  rmse: 55.36\n",
      "DECOUPLED: Train:  rmse: 62.98 \tVal:  rmse: 55.02\n",
      "DECOUPLED: Train:  rmse: 62.82 \tVal:  rmse: 55.02\n",
      "DECOUPLED: Train:  rmse: 62.81 \tVal:  rmse: 55.05\n",
      "DECOUPLED: Train:  rmse: 62.81 \tVal:  rmse: 55.03\n",
      "DECOUPLED: Train:  rmse: 63.31 \tVal:  rmse: 56.66\n"
     ]
    }
   ],
   "source": [
    "it_plot_sep = []\n",
    "rmse_costs_sep = []\n",
    "\n",
    "ev_it = 10\n",
    "i=0\n",
    "\n",
    "for b in batches_idx:\n",
    "    \n",
    "    x_tr = X_train[b]\n",
    "    y_tr = y_train[b]\n",
    "\n",
    "    opt_h.zero_grad()\n",
    "    preds_h = h(x_tr)\n",
    "    \n",
    "    train_cost_mse = mse_loss(preds_h.reshape(-1), y_tr.reshape(-1))\n",
    "    train_cost_mse.backward()\n",
    "    opt_h.step()\n",
    "    \n",
    "    i = i+1\n",
    "    if i%ev_it == 0:\n",
    "        train_rmse_sep = mse_loss(h(X_train).reshape(-1), y_train.reshape(-1))  \n",
    "        val_rmse_sep = mse_loss(h(X_val).reshape(-1), y_val.reshape(-1))\n",
    "                \n",
    "        it_plot_sep.append(i)\n",
    "        rmse_costs_sep.append(val_rmse_sep.data.item())\n",
    "        #obj_costs_sep.append(val_cost_sep.data.item())\n",
    "             \n",
    "        print(\n",
    "              'DECOUPLED: Train: ', \n",
    "               #'f:', round(train_cost_sep.data.item(), 2), \n",
    "               'rmse:', round(train_rmse_sep.data.item(), 2), \n",
    "               '\\tVal: ', \n",
    "               #'f:', round(val_cost_sep.data.item(), 2), \n",
    "               'rmse:', round(val_rmse_sep.data.item(), 2))"
   ]
  },
  {
   "cell_type": "markdown",
   "metadata": {},
   "source": [
    "***\n",
    "$\\mathbf{\\text{Predicting all test outcomes (demand of sales)}}$<br>\n",
    "***\n",
    "\n",
    "\\begin{align}\n",
    "\\hat{Y} = h(X)\n",
    "\\end{align}\n",
    "\n",
    "##### Note that $Y = [y_I]_1^{N_{days}}$"
   ]
  },
  {
   "cell_type": "code",
   "execution_count": 9,
   "metadata": {},
   "outputs": [],
   "source": [
    "y_pred = h(X_test)"
   ]
  },
  {
   "cell_type": "markdown",
   "metadata": {},
   "source": [
    "***\n",
    "$\\mathbf{\\text{Defining the solver as a function of the prediction (without constraints)}}$<br>\n",
    "***\n",
    "\n",
    "\\begin{align}\n",
    "z^*(\\hat{y_I}) = argmin_z \\text{ } f(z,\\hat{y_I}) \\\\ subject \\quad to \\quad z\\geq0\n",
    "\\end{align}\n",
    "\n",
    "##### In this case (1.1 and 1.2), we consider an analytical solution to calculate the argmin that allows simple backpropagation via pytorch. This is possible because theproblem is still simple, the only constraint is that z>=0"
   ]
  },
  {
   "cell_type": "code",
   "execution_count": 10,
   "metadata": {},
   "outputs": [],
   "source": [
    "# Analytical solution to find the argmin\n",
    "# This function allows autograd (backpropagation)\n",
    "def argmin_solver(y_pred):\n",
    "    zs = torch.where(params_t['c']>=params_t['cs'], torch.tensor(0.0).double(), y_pred)\n",
    "    zw = torch.zeros(y_pred.shape)\n",
    "    f_per_item_s = cost_per_item(zs, y_pred)\n",
    "    f_per_item_w = cost_per_item(zw, y_pred)\n",
    "    z_star = torch.where(f_per_item_s.double()<f_per_item_w.double(), zs.double(), zw.double())\n",
    "    return z_star"
   ]
  },
  {
   "cell_type": "markdown",
   "metadata": {},
   "source": [
    "***\n",
    "$\\mathbf{\\text{Compute the final cost function (average through days) based on made decisions}}$<br>\n",
    "***\n",
    "\n",
    "\\begin{align}\n",
    "\\frac{1}{N_{days}} \\sum_{I=1}^{N_{days}} f(z^*(\\hat{y_I}),y_I) \n",
    "\\end{align}"
   ]
  },
  {
   "cell_type": "code",
   "execution_count": 11,
   "metadata": {},
   "outputs": [],
   "source": [
    "def cost_fn(y_pred, y):\n",
    "    f = calc_f_per_day(y_pred, y)\n",
    "    f_total = torch.mean(f)\n",
    "    return f_total"
   ]
  },
  {
   "cell_type": "code",
   "execution_count": 12,
   "metadata": {},
   "outputs": [
    {
     "name": "stdout",
     "output_type": "stream",
     "text": [
      "Final cost on Test Data: 62984.66\n"
     ]
    }
   ],
   "source": [
    "pred_cost_11 = cost_fn(y_pred, y_test)\n",
    "print('Final cost on Test Data:', round(pred_cost_11.item(), 2))"
   ]
  },
  {
   "cell_type": "markdown",
   "metadata": {},
   "source": [
    "### 1.2 Vanilla Newsvendor Problem - Combined Approach"
   ]
  },
  {
   "cell_type": "code",
   "execution_count": 13,
   "metadata": {},
   "outputs": [],
   "source": [
    "# Combined approach (mse loss)\n",
    "hc = ANN(n_feat=dx)\n",
    "opt_hc = torch.optim.Adam(hc.parameters(), lr=0.015)"
   ]
  },
  {
   "cell_type": "code",
   "execution_count": 14,
   "metadata": {},
   "outputs": [
    {
     "name": "stdout",
     "output_type": "stream",
     "text": [
      "COMBINED: Train:  f: 75394.97 \tVal:  f: 76385.6\n",
      "COMBINED: Train:  f: 64099.05 \tVal:  f: 65031.15\n",
      "COMBINED: Train:  f: 61369.37 \tVal:  f: 61548.76\n",
      "COMBINED: Train:  f: 60733.68 \tVal:  f: 61220.43\n",
      "COMBINED: Train:  f: 60236.35 \tVal:  f: 60562.44\n",
      "COMBINED: Train:  f: 59982.86 \tVal:  f: 60358.78\n",
      "COMBINED: Train:  f: 59645.93 \tVal:  f: 60090.26\n",
      "COMBINED: Train:  f: 59408.54 \tVal:  f: 59873.29\n",
      "COMBINED: Train:  f: 59308.87 \tVal:  f: 59868.11\n",
      "COMBINED: Train:  f: 59104.62 \tVal:  f: 59659.05\n",
      "COMBINED: Train:  f: 59030.23 \tVal:  f: 59614.41\n",
      "COMBINED: Train:  f: 58998.97 \tVal:  f: 59513.49\n",
      "COMBINED: Train:  f: 59010.53 \tVal:  f: 59502.81\n",
      "COMBINED: Train:  f: 58966.67 \tVal:  f: 59606.92\n",
      "COMBINED: Train:  f: 58891.16 \tVal:  f: 59420.53\n",
      "COMBINED: Train:  f: 58875.45 \tVal:  f: 59543.39\n",
      "COMBINED: Train:  f: 58898.07 \tVal:  f: 59406.19\n",
      "COMBINED: Train:  f: 58836.12 \tVal:  f: 59376.35\n",
      "COMBINED: Train:  f: 58831.01 \tVal:  f: 59521.48\n",
      "COMBINED: Train:  f: 58799.24 \tVal:  f: 59336.58\n",
      "COMBINED: Train:  f: 58752.79 \tVal:  f: 59358.68\n",
      "COMBINED: Train:  f: 58725.87 \tVal:  f: 59302.45\n",
      "COMBINED: Train:  f: 58710.05 \tVal:  f: 59288.53\n",
      "COMBINED: Train:  f: 58704.03 \tVal:  f: 59311.88\n",
      "COMBINED: Train:  f: 58752.87 \tVal:  f: 59254.77\n",
      "COMBINED: Train:  f: 58694.39 \tVal:  f: 59239.65\n",
      "COMBINED: Train:  f: 58945.16 \tVal:  f: 59374.52\n",
      "COMBINED: Train:  f: 58779.78 \tVal:  f: 59525.4\n"
     ]
    }
   ],
   "source": [
    "it_plot_com= []\n",
    "obj_costs_com = []\n",
    "\n",
    "ev_it = 10\n",
    "i=0\n",
    "\n",
    "for b in batches_idx:\n",
    "    \n",
    "    x_tr = X_train[b]\n",
    "    y_tr = y_train[b]\n",
    "\n",
    "    opt_hc.zero_grad()\n",
    "    preds_hc = hc(x_tr)\n",
    "    \n",
    "    train_cost_f = cost_fn(preds_hc.reshape(-1), y_tr.reshape(-1))\n",
    "    train_cost_f.backward()\n",
    "    opt_hc.step()\n",
    "    \n",
    "    i = i+1\n",
    "    if i%ev_it == 0:\n",
    "        train_cost_com = cost_fn(hc(X_train).reshape(-1), y_train.reshape(-1))  \n",
    "        val_cost_com = cost_fn(hc(X_val).reshape(-1), y_val.reshape(-1))\n",
    "                \n",
    "        it_plot_com.append(i)\n",
    "        obj_costs_com.append(val_cost_com.data.item())\n",
    "             \n",
    "        print(\n",
    "              'COMBINED: Train: ', \n",
    "               'f:', round(train_cost_com.data.item(), 2), \n",
    "               '\\tVal: ', \n",
    "               'f:', round(val_cost_com.data.item(), 2))"
   ]
  },
  {
   "cell_type": "markdown",
   "metadata": {},
   "source": [
    "***\n",
    "$\\mathbf{\\text{Predicting all test outcomes (demand of sales)}}$<br>\n",
    "***\n",
    "\n",
    "\\begin{align}\n",
    "\\hat{Y} = h(X)\n",
    "\\end{align}\n",
    "\n",
    "Note that $Y = [y_I]_1^{N_{days}}$"
   ]
  },
  {
   "cell_type": "code",
   "execution_count": 15,
   "metadata": {},
   "outputs": [],
   "source": [
    "y_pred = hc(X_test)"
   ]
  },
  {
   "cell_type": "markdown",
   "metadata": {},
   "source": [
    "***\n",
    "$\\mathbf{\\text{Compute the final cost function (average through days) based on made decisions}}$<br>\n",
    "***\n",
    "\n",
    "\\begin{align}\n",
    "PredictedCost = \\frac{1}{N_{days}} \\sum_{I=1}^{N_{days}} f(z^*(\\hat{y_I}),y_I) \n",
    "\\end{align}"
   ]
  },
  {
   "cell_type": "code",
   "execution_count": 16,
   "metadata": {},
   "outputs": [
    {
     "name": "stdout",
     "output_type": "stream",
     "text": [
      "Final cost on Test Data: 60591.88\n"
     ]
    }
   ],
   "source": [
    "pred_cost_12 = cost_fn(y_pred, y_test)\n",
    "print('Final cost on Test Data:', round(pred_cost_12.item(), 2))"
   ]
  },
  {
   "cell_type": "markdown",
   "metadata": {},
   "source": [
    "***\n",
    "$\\mathbf{\\text{Compute the final cost function (average through days) based on BEST decisions}}$<br>\n",
    "***\n",
    "\n",
    "\\begin{align}\n",
    "Optimal Cost = \\frac{1}{N_{days}} \\sum_{I=1}^{N_{days}} f(z^*(y_I),y_I) \n",
    "\\end{align}"
   ]
  },
  {
   "cell_type": "code",
   "execution_count": 17,
   "metadata": {},
   "outputs": [
    {
     "name": "stdout",
     "output_type": "stream",
     "text": [
      "Best cost on Test Data: 27571.98\n"
     ]
    }
   ],
   "source": [
    "best1_cost = cost_fn(y_test, y_test)\n",
    "print('Best cost on Test Data:', round(best1_cost.item(), 2))"
   ]
  },
  {
   "cell_type": "markdown",
   "metadata": {},
   "source": [
    "***\n",
    "$\\mathbf{\\text{Compute the cumulative regrets from 1.1 and 1.2}}$<br>\n",
    "***\n",
    "\n",
    "\\begin{align}\n",
    "Regret = PredictedCost - OptimalCost\n",
    "\\end{align}"
   ]
  },
  {
   "cell_type": "code",
   "execution_count": 18,
   "metadata": {},
   "outputs": [
    {
     "name": "stdout",
     "output_type": "stream",
     "text": [
      "Cumulative regret: \n",
      "         1.1 -> 35412 \n",
      "         1.2 -> 33019 \n"
     ]
    }
   ],
   "source": [
    "regret11 = pred_cost_11 - best1_cost\n",
    "regret12 = pred_cost_12 - best1_cost\n",
    "\n",
    "print('Cumulative regret: \\n \\\n",
    "        1.1 -> {regret11} \\n \\\n",
    "        1.2 -> {regret12} \\\n",
    "'.format(\n",
    "    regret11=int(regret11),\n",
    "    regret12=int(regret12)\n",
    "))"
   ]
  },
  {
   "cell_type": "markdown",
   "metadata": {},
   "source": [
    "***\n",
    "$\\mathbf{\\text{Compute the normalized regret from 1.1 and 1.2}}$<br>\n",
    "***\n",
    "\n",
    "\\begin{align}\n",
    "Normalized Regret = \\frac{Regret}{Optimal Cost} \n",
    "\\end{align}"
   ]
  },
  {
   "cell_type": "code",
   "execution_count": 19,
   "metadata": {},
   "outputs": [
    {
     "name": "stdout",
     "output_type": "stream",
     "text": [
      "Normalized regret: \n",
      "         1.1 -> 1.284372273350656 \n",
      "         1.2 -> 1.1975893120931278 \n"
     ]
    }
   ],
   "source": [
    "cr11 = regret11/best1_cost\n",
    "cr12 = regret12/best1_cost\n",
    "\n",
    "print('Normalized regret: \\n \\\n",
    "        1.1 -> {cr11} \\n \\\n",
    "        1.2 -> {cr12} \\\n",
    "'.format(\n",
    "    cr11=cr11,\n",
    "    cr12=cr12\n",
    "))"
   ]
  },
  {
   "cell_type": "markdown",
   "metadata": {},
   "source": [
    "## 2 Adding a Budget and Capacity constraints"
   ]
  },
  {
   "cell_type": "markdown",
   "metadata": {},
   "source": [
    "##### This class formulates an Linear Programming (relaxed version of the MILP). We explain how to transform this problem in a Linear Program formulation in Section 6 in our article. "
   ]
  },
  {
   "cell_type": "code",
   "execution_count": 20,
   "metadata": {},
   "outputs": [],
   "source": [
    "class SolveNewsvendor():\n",
    "    def __init__(self, params_np):\n",
    "        super(SolveNewsvendor, self).__init__()\n",
    "            \n",
    "        n_items = len(params_np['c'])\n",
    "        self.n_items = n_items    \n",
    "            \n",
    "        # Numpy parameters for Gomory cuts\n",
    "        self.cost_vector = np.hstack((params_np['c'], params_np['cs'], params_np['cw']))\n",
    "        self.price_ineq_np = np.hstack((params_np['pr'], np.zeros(2*n_items)) )\n",
    "        self.size_ineq_np = np.hstack((params_np['si'], np.zeros(2*n_items)))\n",
    "        \n",
    "        \n",
    "        \n",
    "    def milp_formulation(self, y_I):\n",
    "        \"\"\"\n",
    "        Formulate the MILP to be used in \"solve_milp\"\n",
    "        We can solve the continuous version (LP) just passing relax = True in \"solve_milp\"\n",
    "        The MILP is formulated based on an outcome chunk y_I.\n",
    "        \"\"\"\n",
    "        m = Model(\"milp\")\n",
    "        m.verbose = 0\n",
    "\n",
    "        n_items_range = range(n_items)\n",
    "        n_variables = range(3*n_items)\n",
    "        \n",
    "        z = ([m.add_var(var_type=INTEGER) for i in range(0, n_items)] \n",
    "             + [m.add_var(var_type=CONTINUOUS) for i in range(n_items, 3*n_items)])\n",
    "\n",
    "        # linear objective function\n",
    "        m.objective = minimize(xsum(self.cost_vector[i] * z[i] for i in n_variables))\n",
    "\n",
    "        # all variables greater than zero\n",
    "        for i in n_variables:\n",
    "            m += -z[i] <= 0\n",
    "        # constraints on shortage variables\n",
    "        for i in range(0, n_items):\n",
    "            m += -z[i] - z[i + n_items] <= -y_I[i]\n",
    "        # constraints on excess variables\n",
    "        for i in range(0, n_items):\n",
    "            m += z[i] - z[i + 2*n_items] <= y_I[i]\n",
    "        # constraints on budget\n",
    "        m += xsum(self.price_ineq_np[i] * z[i] for i in n_variables) <= params_np['B']\n",
    "        # constraints on size\n",
    "        m += xsum(self.size_ineq_np[i] * z[i] for i in n_variables) <= params_np['S']\n",
    "        \n",
    "        return m\n",
    "    \n",
    "    \n",
    "    def solve_milp(self, y, relax):\n",
    "        \"\"\"\n",
    "        The function solves the problem for each y_I in a batch\n",
    "        and return the argmin result for the whole batch\n",
    "        \"\"\"\n",
    "        y = y.detach().numpy()\n",
    "        n_batches, n_items = y.shape\n",
    "        \n",
    "        argmin = []\n",
    "        \n",
    "        for j in range(0, n_batches):\n",
    "            y_I = y[j]\n",
    "            m = self.milp_formulation(y_I)\n",
    "            status = m.optimize(relax = relax)\n",
    "        \n",
    "            argmin_sample = []\n",
    "            for v in m.vars:\n",
    "                argmin_sample.append(v.x)\n",
    "            argmin.append(argmin_sample[:n_items])\n",
    "             \n",
    "        return torch.tensor(argmin)"
   ]
  },
  {
   "cell_type": "code",
   "execution_count": 21,
   "metadata": {},
   "outputs": [
    {
     "name": "stdout",
     "output_type": "stream",
     "text": [
      "Example of price constant and budget constraints: [315. 443.] 77747.19\n"
     ]
    }
   ],
   "source": [
    "# Setting the Budged (sum of prices) and Capacity (sum of sizes) upperbound (constraints)\n",
    "params_np['B'] = (params_np['pr'].sum()*y_test.median().item()*0.6).astype('float32')\n",
    "params_np['S'] = (params_np['si'].sum()*y_test.median().item()*0.6).astype('float32')\n",
    "\n",
    "params_t['B'] = torch.tensor([params_np['B']])\n",
    "params_t['S'] = torch.tensor([params_np['S']])\n",
    "\n",
    "print('Example of price constant and budget constraints:', params_np['pr'][:2], round(params_t['B'].item(), 2))\n",
    "\n",
    "# Construct the solver\n",
    "newsvendor_solve = SolveNewsvendor(params_np)"
   ]
  },
  {
   "cell_type": "markdown",
   "metadata": {},
   "source": [
    "### 2.1 Adding a Budget and Capacity constraints - Decoupled approach"
   ]
  },
  {
   "cell_type": "code",
   "execution_count": 22,
   "metadata": {},
   "outputs": [],
   "source": [
    "def argmin_solver(y_pred):\n",
    "    z_star = newsvendor_solve.solve_milp(y_pred, relax=True) # Solve the continuous version\n",
    "    return z_star"
   ]
  },
  {
   "cell_type": "markdown",
   "metadata": {},
   "source": [
    "***\n",
    "$\\mathbf{\\text{Defining the solver as a function of the prediction (with constraints)}}$<br>\n",
    "***\n",
    "\n",
    "\\begin{align}\n",
    "z^*(\\hat{y_I}) = & argmin_z \\text{ } f(z,\\hat{y_I}) \\\\\n",
    "\\text{Subject to } & \\begin{cases}\n",
    "pr^Tz \\leq B \\\\\n",
    "si^Tz \\leq S \\\\\n",
    "z \\geq 0\n",
    "\\end{cases}\n",
    "\\end{align}"
   ]
  },
  {
   "cell_type": "markdown",
   "metadata": {},
   "source": [
    "##### Now the function \"argmin_solver\" is replaced to a linear programming (relaxation of a MILP). This solver does not allow backpropagation in principle, so we will solve first in a decoupled manner."
   ]
  },
  {
   "cell_type": "markdown",
   "metadata": {},
   "source": [
    "##### The predictions are already done in 1.1 using MSE loss, so we leverage the same predictions"
   ]
  },
  {
   "cell_type": "markdown",
   "metadata": {},
   "source": [
    "***\n",
    "$\\mathbf{\\text{Compute the final cost function (average through days) based on made decisions}}$<br>\n",
    "***\n",
    "\n",
    "\\begin{align}\n",
    "PredictedCost = \\frac{1}{N_{days}} \\sum_{I=1}^{N_{days}} f(z^*(\\hat{y_I}),y_I) \n",
    "\\end{align}"
   ]
  },
  {
   "cell_type": "code",
   "execution_count": 23,
   "metadata": {
    "scrolled": true
   },
   "outputs": [
    {
     "name": "stdout",
     "output_type": "stream",
     "text": [
      "Final cost on Test Data: 75943.59\n"
     ]
    }
   ],
   "source": [
    "y_pred = h(X_test)\n",
    "pred_cost_21 = cost_fn(y_pred, y_test)\n",
    "print('Final cost on Test Data:', round(pred_cost_21.item(), 2))"
   ]
  },
  {
   "cell_type": "markdown",
   "metadata": {},
   "source": [
    "### 2.2 Adding a Budget and Capacity constraints - Combined state-of-the-art approach"
   ]
  },
  {
   "cell_type": "markdown",
   "metadata": {},
   "source": [
    "##### This class formulates a Quadratic Programming using the library QPTH from Amos and Kolter (2017). We formulate the LP now as a QP (addinga penalty quadratic term) proposed by Wilder et al. (2019)"
   ]
  },
  {
   "cell_type": "code",
   "execution_count": 24,
   "metadata": {},
   "outputs": [],
   "source": [
    "class SolveNewsvendorWithKKT():\n",
    "    def __init__(self, params_t):\n",
    "        super(SolveNewsvendorWithKKT, self).__init__()\n",
    "            \n",
    "        n_items = len(params_t['c'])\n",
    "        self.n_items = n_items    \n",
    "            \n",
    "        # Torch parameters for KKT         \n",
    "        ident = torch.eye(n_items)\n",
    "        ident3 = torch.eye(3*n_items)\n",
    "        zeros_matrix = torch.zeros((n_items, n_items))\n",
    "        zeros_array = torch.zeros(n_items)\n",
    "        ones_array = torch.ones(n_items)\n",
    "             \n",
    "        self.Q = torch.diag(torch.hstack((params_t['q'], params_t['qs'], params_t['qw'])))\n",
    "        self.lin = torch.hstack((params_t['c'], params_t['cs'], params_t['cw']))\n",
    "             \n",
    "        shortage_ineq = torch.hstack((-ident, -ident, zeros_matrix))\n",
    "        excess_ineq = torch.hstack((ident, zeros_matrix, -ident))\n",
    "        price_ineq = torch.hstack((params_t['pr'], zeros_array, zeros_array))\n",
    "        size_ineq = torch.hstack((params_t['si'], zeros_array, zeros_array))\n",
    "        positive_ineq = -ident3\n",
    "        \n",
    "        self.ineqs = torch.vstack((shortage_ineq, excess_ineq, price_ineq, size_ineq, positive_ineq))\n",
    "\n",
    "        self.uncert_bound = torch.hstack((-ones_array, ones_array))\n",
    "        self.determ_bound = torch.tensor([params_t['B'], params_t['S']]) \n",
    "        self.determ_bound = torch.hstack((self.determ_bound, \n",
    "                                          torch.zeros(n_items), torch.zeros(n_items), torch.zeros(n_items)))\n",
    "        \n",
    "        \n",
    "        \n",
    "    def forward(self, y):\n",
    "        \"\"\"\n",
    "        Applies the qpth solver for all batches and allows backpropagation.\n",
    "        Formulation based on Priya L. Donti, Brandon Amos, J. Zico Kolter (2017).\n",
    "        Note: The quadratic terms (Q) are used as auxiliar terms only to allow the backpropagation through the \n",
    "        qpth library from Amos and Kolter. \n",
    "        We will set them as a small percentage of the linear terms (Wilder, Ewing, Dilkina, Tambe, 2019)\n",
    "        \"\"\"\n",
    "        \n",
    "        n_batches, n_items = y.size()\n",
    "        \n",
    "        assert self.n_items == n_items \n",
    "\n",
    "        Q = self.Q\n",
    "        Q = Q.expand(n_batches, Q.size(0), Q.size(1))\n",
    "\n",
    "        ineqs = torch.unsqueeze(self.ineqs, dim=0)\n",
    "        ineqs = ineqs.expand(n_batches, ineqs.shape[1], ineqs.shape[2])       \n",
    "\n",
    "        uncert_bound = (self.uncert_bound*torch.hstack((y, y)))\n",
    "        determ_bound = self.determ_bound.unsqueeze(dim=0).expand(\n",
    "            n_batches, self.determ_bound.shape[0])\n",
    "        bound = torch.hstack((uncert_bound, determ_bound))     \n",
    "        \n",
    "        e = torch.DoubleTensor()\n",
    "        \n",
    "        argmin = QPFunction(verbose=-1)\\\n",
    "            (Q.double(), self.lin.double(), ineqs.double(), \n",
    "             bound.double(), e, e).double()\n",
    "            \n",
    "        return argmin[:,:n_items]"
   ]
  },
  {
   "cell_type": "code",
   "execution_count": 25,
   "metadata": {},
   "outputs": [],
   "source": [
    "# Construct the solver\n",
    "newsvendor_solve_kkt = SolveNewsvendorWithKKT(params_t)"
   ]
  },
  {
   "cell_type": "code",
   "execution_count": 26,
   "metadata": {},
   "outputs": [],
   "source": [
    "# Combined approach (mse loss)\n",
    "hc = ANN(n_feat=dx)\n",
    "opt_hc = torch.optim.Adam(hc.parameters(), lr=0.008)"
   ]
  },
  {
   "cell_type": "markdown",
   "metadata": {},
   "source": [
    "***\n",
    "$\\mathbf{\\text{Defining the solver as a function of the prediction (with constraints)}}$<br>\n",
    "***\n",
    "\n",
    "\\begin{align}\n",
    "z^*(\\hat{y_I}) = & argmin_z \\text{ } f(z,\\hat{y_I}) \\\\\n",
    "\\text{Subject to } & \\begin{cases}\n",
    "pr^Tz \\leq B \\\\\n",
    "si^Tz \\leq S \\\\\n",
    "z \\geq 0\n",
    "\\end{cases}\n",
    "\\end{align}"
   ]
  },
  {
   "cell_type": "markdown",
   "metadata": {},
   "source": [
    "##### Now the function \"argmin_solver\" is replaced to a quadratic programming that allows backpropagation, and we use the method proposed by Priya Donti et al. (2017) to solve the problem"
   ]
  },
  {
   "cell_type": "code",
   "execution_count": 27,
   "metadata": {},
   "outputs": [],
   "source": [
    "def argmin_solver(y_pred):\n",
    "    z_star = newsvendor_solve_kkt.forward(y_pred)\n",
    "    return z_star"
   ]
  },
  {
   "cell_type": "code",
   "execution_count": 28,
   "metadata": {},
   "outputs": [
    {
     "name": "stderr",
     "output_type": "stream",
     "text": [
      "/home/alan/Desktop/envs/pao_env/lib/python3.8/site-packages/qpth/qp.py:83: UserWarning: torch.eig is deprecated in favor of torch.linalg.eig and will be removed in a future PyTorch release.\n",
      "torch.linalg.eig returns complex tensors of dtype cfloat or cdouble rather than real tensors mimicking complex tensors.\n",
      "L, _ = torch.eig(A)\n",
      "should be replaced with\n",
      "L_complex = torch.linalg.eigvals(A)\n",
      "and\n",
      "L, V = torch.eig(A, eigenvectors=True)\n",
      "should be replaced with\n",
      "L_complex, V_complex = torch.linalg.eig(A) (Triggered internally at  ../aten/src/ATen/native/BatchLinearAlgebra.cpp:2910.)\n",
      "  e, _ = torch.eig(Q[i])\n"
     ]
    },
    {
     "name": "stdout",
     "output_type": "stream",
     "text": [
      "COMBINED: Train:  f: 96226.17 \tVal:  f: 99486.42\n",
      "COMBINED: Train:  f: 70808.5 \tVal:  f: 71352.16\n",
      "COMBINED: Train:  f: 68362.44 \tVal:  f: 70163.87\n",
      "COMBINED: Train:  f: 65874.27 \tVal:  f: 66627.33\n",
      "COMBINED: Train:  f: 66472.81 \tVal:  f: 67080.05\n",
      "COMBINED: Train:  f: 65743.42 \tVal:  f: 66624.8\n",
      "COMBINED: Train:  f: 65577.61 \tVal:  f: 66429.99\n",
      "COMBINED: Train:  f: 65470.71 \tVal:  f: 66192.58\n",
      "COMBINED: Train:  f: 65518.05 \tVal:  f: 66522.18\n",
      "COMBINED: Train:  f: 65254.23 \tVal:  f: 66083.5\n",
      "COMBINED: Train:  f: 65223.57 \tVal:  f: 66117.68\n",
      "COMBINED: Train:  f: 65155.8 \tVal:  f: 66053.86\n",
      "COMBINED: Train:  f: 65173.58 \tVal:  f: 65939.39\n",
      "COMBINED: Train:  f: 65057.34 \tVal:  f: 65922.37\n",
      "COMBINED: Train:  f: 65027.25 \tVal:  f: 65913.42\n",
      "COMBINED: Train:  f: 65003.58 \tVal:  f: 65898.84\n",
      "COMBINED: Train:  f: 65001.17 \tVal:  f: 65939.21\n",
      "COMBINED: Train:  f: 64967.28 \tVal:  f: 65869.38\n",
      "COMBINED: Train:  f: 64951.1 \tVal:  f: 65870.93\n",
      "COMBINED: Train:  f: 64986.93 \tVal:  f: 65825.85\n",
      "COMBINED: Train:  f: 64940.01 \tVal:  f: 65820.06\n",
      "COMBINED: Train:  f: 64977.83 \tVal:  f: 65976.67\n",
      "COMBINED: Train:  f: 64954.34 \tVal:  f: 65752.61\n",
      "COMBINED: Train:  f: 64927.36 \tVal:  f: 65900.74\n",
      "COMBINED: Train:  f: 64883.41 \tVal:  f: 65748.18\n",
      "COMBINED: Train:  f: 64907.26 \tVal:  f: 65716.1\n",
      "COMBINED: Train:  f: 64864.45 \tVal:  f: 65823.32\n",
      "COMBINED: Train:  f: 64856.41 \tVal:  f: 65821.84\n",
      "COMBINED: Train:  f: 64867.41 \tVal:  f: 65863.13\n"
     ]
    }
   ],
   "source": [
    "it_plot_com = []\n",
    "obj_costs_com = []\n",
    "\n",
    "ev_it = 10\n",
    "i=0\n",
    "\n",
    "for b in batches_idx:\n",
    "    \n",
    "    x_tr = X_train[b]\n",
    "    y_tr = y_train[b]\n",
    "\n",
    "    opt_hc.zero_grad()\n",
    "    preds_hc = hc(x_tr)\n",
    "    \n",
    "    train_cost_f = cost_fn(preds_hc.reshape(-1), y_tr.reshape(-1))\n",
    "    train_cost_f.backward()\n",
    "    opt_hc.step()\n",
    "    \n",
    "   \n",
    "    if i%ev_it == 0:  \n",
    "        \n",
    "        with torch.no_grad():\n",
    "            train_cost_com = cost_fn(hc(X_train), y_train)\n",
    "            val_cost_com = cost_fn(hc(X_val).reshape(-1), y_val.reshape(-1))\n",
    "\n",
    "        it_plot_com.append(i)\n",
    "        #rmse_costs_com.append(val_rmse_sep.data.item())\n",
    "        obj_costs_com.append(val_cost_com.data.item())\n",
    "             \n",
    "        print(\n",
    "              'COMBINED: Train: ', \n",
    "               'f:', round(train_cost_com.data.item(), 2), \n",
    "               #'rmse:', round(train_rmse_sep.data.item(), 2), \n",
    "               '\\tVal: ', \n",
    "               'f:', round(val_cost_com.data.item(), 2), \n",
    "               #'rmse:', round(val_rmse_sep.data.item(), 2)\n",
    "        )\n",
    "        \n",
    "    i = i+1"
   ]
  },
  {
   "cell_type": "markdown",
   "metadata": {},
   "source": [
    "***\n",
    "$\\mathbf{\\text{Predicting all test outcomes (demand of sales)}}$<br>\n",
    "***\n",
    "\n",
    "\\begin{align}\n",
    "\\hat{Y} = hc(X)\n",
    "\\end{align}\n",
    "\n",
    "##### Note that $Y = [y_I]_1^{N_{days}}$\n",
    "\n",
    "##### Also, note that now $hc$ was learned based on the cost function through the KKT differentiation, not on the MSE loss"
   ]
  },
  {
   "cell_type": "code",
   "execution_count": 29,
   "metadata": {},
   "outputs": [],
   "source": [
    "y_pred = hc(X_test)"
   ]
  },
  {
   "cell_type": "code",
   "execution_count": 30,
   "metadata": {},
   "outputs": [],
   "source": [
    "def argmin_solver(y_pred):\n",
    "    z_star = newsvendor_solve.solve_milp(y_pred, relax=True)\n",
    "    return z_star"
   ]
  },
  {
   "cell_type": "markdown",
   "metadata": {},
   "source": [
    "***\n",
    "$\\mathbf{\\text{Compute the final cost function (average through days) based on made decisions}}$<br>\n",
    "***\n",
    "\n",
    "\\begin{align}\n",
    "PredictedCost = \\frac{1}{N_{days}} \\sum_{I=1}^{N_{days}} f(z^*(\\hat{y_I}),y_I) \n",
    "\\end{align}"
   ]
  },
  {
   "cell_type": "code",
   "execution_count": 31,
   "metadata": {},
   "outputs": [
    {
     "name": "stdout",
     "output_type": "stream",
     "text": [
      "Final cost on Test Data: 71038.06\n"
     ]
    }
   ],
   "source": [
    "pred_cost_22 = cost_fn(y_pred, y_test)\n",
    "print('Final cost on Test Data:', round(pred_cost_22.item(), 2))"
   ]
  },
  {
   "cell_type": "markdown",
   "metadata": {},
   "source": [
    "***\n",
    "$\\mathbf{\\text{Compute the final cost function (average through days) based on BEST decisions}}$<br>\n",
    "***\n",
    "\n",
    "\\begin{align}\n",
    "OptimalCost = \\frac{1}{N_{days}} \\sum_{I=1}^{N_{days}} f(z^*(y_I),y_I) \n",
    "\\end{align}"
   ]
  },
  {
   "cell_type": "code",
   "execution_count": 32,
   "metadata": {},
   "outputs": [
    {
     "name": "stdout",
     "output_type": "stream",
     "text": [
      "Best cost on Test Data: 57952.02\n"
     ]
    }
   ],
   "source": [
    "best2_cost = cost_fn(y_test, y_test)\n",
    "print('Best cost on Test Data:', round(best2_cost.item(), 2))"
   ]
  },
  {
   "cell_type": "markdown",
   "metadata": {},
   "source": [
    "***\n",
    "$\\mathbf{\\text{Compute the cumulative regrets from 2.1 and 2.2}}$<br>\n",
    "***\n",
    "\n",
    "\\begin{align}\n",
    "Regret = PredictedCost - OptimalCost\n",
    "\\end{align}"
   ]
  },
  {
   "cell_type": "code",
   "execution_count": 33,
   "metadata": {},
   "outputs": [
    {
     "name": "stdout",
     "output_type": "stream",
     "text": [
      "Cumulative regret: \n",
      "         2.1 -> 17991 \n",
      "         2.2 -> 13086 \n"
     ]
    }
   ],
   "source": [
    "regret21 = pred_cost_21 - best2_cost\n",
    "regret22 = pred_cost_22 - best2_cost\n",
    "\n",
    "print('Cumulative regret: \\n \\\n",
    "        2.1 -> {regret21} \\n \\\n",
    "        2.2 -> {regret22} \\\n",
    "'.format(\n",
    "    regret21=int(regret21),\n",
    "    regret22=int(regret22)\n",
    "))"
   ]
  },
  {
   "cell_type": "markdown",
   "metadata": {},
   "source": [
    "***\n",
    "$\\mathbf{\\text{Compute the normalized regret from 2.1 and 2.2}}$<br>\n",
    "***\n",
    "\n",
    "\\begin{align}\n",
    "Normalized Regret = \\frac{Regret}{Optimal Cost} \n",
    "\\end{align}"
   ]
  },
  {
   "cell_type": "code",
   "execution_count": 34,
   "metadata": {},
   "outputs": [
    {
     "name": "stdout",
     "output_type": "stream",
     "text": [
      "Normalized regret: \n",
      "         2.1 -> 0.31045624961172535 \n",
      "         2.2 -> 0.22580817290146007 \n"
     ]
    }
   ],
   "source": [
    "cr21 = regret21/best2_cost\n",
    "cr22 = regret22/best2_cost\n",
    "\n",
    "print('Normalized regret: \\n \\\n",
    "        2.1 -> {cr21} \\n \\\n",
    "        2.2 -> {cr22} \\\n",
    "'.format(\n",
    "    cr21=cr21,\n",
    "    cr22=cr22\n",
    "))"
   ]
  },
  {
   "cell_type": "markdown",
   "metadata": {},
   "source": [
    "## 3 Adding integrality constraints"
   ]
  },
  {
   "cell_type": "markdown",
   "metadata": {},
   "source": [
    "### 3.1 Adding integrality constraints - Decoupled Approach"
   ]
  },
  {
   "cell_type": "markdown",
   "metadata": {},
   "source": [
    "#### By adding integrality constraints, we aim (at the final moment) to solve the same problem with the parameter relax = False  "
   ]
  },
  {
   "cell_type": "markdown",
   "metadata": {},
   "source": [
    "***\n",
    "$\\mathbf{\\text{Defining the solver as a function of the prediction (with constraints)}}$<br>\n",
    "***\n",
    "\n",
    "\\begin{align}\n",
    "z^*(\\hat{y_I}) = & argmin_z \\text{ } f(z,\\hat{y_I}) \\\\\n",
    "\\text{Subject to } & \\begin{cases}\n",
    "pr^Tz \\leq B \\\\\n",
    "si^Tz \\leq S \\\\\n",
    "z \\geq 0 \\\\\n",
    "z \\in \\mathbb{Z}\n",
    "\\end{cases}\n",
    "\\end{align}"
   ]
  },
  {
   "cell_type": "code",
   "execution_count": 35,
   "metadata": {},
   "outputs": [],
   "source": [
    "def argmin_solver(y_pred):\n",
    "    z_star = newsvendor_solve.solve_milp(y_pred, relax=False)\n",
    "    return z_star"
   ]
  },
  {
   "cell_type": "markdown",
   "metadata": {},
   "source": [
    "##### The predictions are already done in 1.1 using MSE loss, so we leverage the same predictions\n",
    "\n",
    "***\n",
    "$\\mathbf{\\text{Compute the final cost function (average through days) based on made decisions}}$<br>\n",
    "***\n",
    "\n",
    "\\begin{align}\n",
    "PredictedCost = \\frac{1}{N_{days}} \\sum_{I=1}^{N_{days}} f(z^*(\\hat{y_I}),y_I) \n",
    "\\end{align}"
   ]
  },
  {
   "cell_type": "code",
   "execution_count": 36,
   "metadata": {},
   "outputs": [
    {
     "name": "stdout",
     "output_type": "stream",
     "text": [
      "Final cost on Test Data: 75116.11\n"
     ]
    }
   ],
   "source": [
    "y_pred = h(X_test)\n",
    "pred_cost_31 = cost_fn(y_pred, y_test)\n",
    "print('Final cost on Test Data:', round(pred_cost_31.item(), 2))"
   ]
  },
  {
   "cell_type": "markdown",
   "metadata": {},
   "source": [
    "### 3.2 Adding integrality constraints - Combined Approach"
   ]
  },
  {
   "cell_type": "markdown",
   "metadata": {},
   "source": [
    "#### For each step of the gradient descent we will solve the OP with relax = True after applying the Gomory cuts Aaron Ferber et al. (2019)"
   ]
  },
  {
   "cell_type": "code",
   "execution_count": 37,
   "metadata": {},
   "outputs": [],
   "source": [
    "# Number of maximum cuts for each iteration of the learning\n",
    "N_try_cuts = 100"
   ]
  },
  {
   "cell_type": "code",
   "execution_count": 38,
   "metadata": {},
   "outputs": [],
   "source": [
    "class SolveNewsvendorWithGomoryAndKKT():\n",
    "    def __init__(self, params_t, params_np):\n",
    "        super(SolveNewsvendorWithGomoryAndKKT, self).__init__()\n",
    "            \n",
    "        n_items = len(params_np['c'])\n",
    "        self.n_items = n_items    \n",
    "            \n",
    "        # Numpy parameters for Gomory cuts\n",
    "        self.cost_vector = np.hstack((params_np['c'], params_np['cs'], params_np['cw']))\n",
    "        self.price_ineq_np = np.hstack((params_np['pr'], np.zeros(2*n_items)) )\n",
    "        self.size_ineq_np = np.hstack((params_np['si'], np.zeros(2*n_items)))\n",
    "        \n",
    "        # Torch parameters for KKT         \n",
    "        ident = torch.eye(n_items)\n",
    "        ident3 = torch.eye(3*n_items)\n",
    "        zeros_matrix = torch.zeros((n_items, n_items))\n",
    "        zeros_array = torch.zeros(n_items)\n",
    "        ones_array = torch.ones(n_items)\n",
    "             \n",
    "        self.Q = torch.diag(torch.hstack((params_t['q'], params_t['qs'], params_t['qw'])))\n",
    "        self.lin = torch.hstack((params_t['c'], params_t['cs'], params_t['cw']))\n",
    "             \n",
    "        shortage_ineq = torch.hstack((-ident, -ident, zeros_matrix))\n",
    "        excess_ineq = torch.hstack((ident, zeros_matrix, -ident))\n",
    "        price_ineq = torch.hstack((params_t['pr'], zeros_array, zeros_array))\n",
    "        size_ineq = torch.hstack((params_t['si'], zeros_array, zeros_array))\n",
    "        positive_ineq = -ident3\n",
    "        \n",
    "        self.ineqs = torch.vstack((shortage_ineq, excess_ineq, price_ineq, size_ineq, positive_ineq))\n",
    "\n",
    "        self.uncert_bound = torch.hstack((-ones_array, ones_array))\n",
    "        self.determ_bound = torch.tensor([params_t['B'], params_t['S']]) \n",
    "        self.determ_bound = torch.hstack((self.determ_bound, \n",
    "                                          torch.zeros(n_items), torch.zeros(n_items), torch.zeros(n_items)))\n",
    "\n",
    "        \n",
    "    def milp_formulation(self, y_I):\n",
    "        \"\"\"\n",
    "        Formulate the MILP to be used in \"solve_milp\" or in \"forward_gomory_cut\"\n",
    "        The MILP is formulated based on an outcome chunk y_I.\n",
    "        \"\"\"\n",
    "        m = Model(\"milp\")\n",
    "        m.verbose = 0\n",
    "\n",
    "        n_items_range = range(n_items)\n",
    "        n_variables = range(3*n_items)\n",
    "        \n",
    "        z = ([m.add_var(var_type=INTEGER) for i in range(0, n_items)] \n",
    "             + [m.add_var(var_type=CONTINUOUS) for i in range(n_items, 3*n_items)])\n",
    "\n",
    "        # linear objective function\n",
    "        m.objective = minimize(xsum(self.cost_vector[i] * z[i] for i in n_variables))\n",
    "\n",
    "        # all variables greater than zero\n",
    "        for i in n_variables:\n",
    "            m += -z[i] <= 0\n",
    "        # constraints on shortage variables\n",
    "        for i in range(0, n_items):\n",
    "            m += -z[i] - z[i + n_items] <= -y_I[i]\n",
    "        # constraints on excess variables\n",
    "        for i in range(0, n_items):\n",
    "            m += z[i] - z[i + 2*n_items] <= y_I[i]\n",
    "        # constraints on budget\n",
    "        m += xsum(self.price_ineq_np[i] * z[i] for i in n_variables) <= params_np['B']\n",
    "        # constraints on size\n",
    "        m += xsum(self.size_ineq_np[i] * z[i] for i in n_variables) <= params_np['S']\n",
    "        \n",
    "        return m\n",
    "    \n",
    "    \n",
    "    def one_sample_cuts(self, y_I):\n",
    "        \"\"\"\n",
    "        This function first formulates the MILP and then uses the MILP formulation to \n",
    "        compute and return some Gomory cuts (just for 1 instance of I (day))\n",
    "        \"\"\"\n",
    "        m = self.milp_formulation(y_I)  \n",
    "        n_cuts = 0\n",
    "\n",
    "        for i in range(N_try_cuts):\n",
    "            status = m.optimize(relax = True)\n",
    "            cp = m.generate_cuts([CutType.GOMORY])\n",
    "\n",
    "            if cp.cuts:\n",
    "                if n_cuts + len(cp.cuts) <= N_try_cuts:\n",
    "                    n_cuts = n_cuts + len(cp.cuts)\n",
    "                    m += cp\n",
    "                else:\n",
    "                    break\n",
    "\n",
    "            else:\n",
    "                break\n",
    "\n",
    "\n",
    "        matrix_ineq_cut = np.array([])\n",
    "        array_ineq_bound = np.array([])\n",
    "        for i in range(-n_cuts, 0):\n",
    "            cut = m.constrs[-n_cuts:][i].expr.expr\n",
    "            varslist = list(m.vars)\n",
    "            dict_vars_init = dict(zip(varslist, len(varslist)*[0]))\n",
    "            ineq_cut = {**dict_vars_init, **cut}\n",
    "            values_ineq_cut = np.array(list(ineq_cut.values()))\n",
    "            array_ineq_bound = np.append(array_ineq_bound, -m.constrs[i].expr.const)\n",
    "            if i == -n_cuts:\n",
    "                matrix_ineq_cut = values_ineq_cut\n",
    "            else:\n",
    "                matrix_ineq_cut = np.vstack((matrix_ineq_cut, values_ineq_cut))\n",
    "\n",
    "        # Adding zeros to standardize ineq size\n",
    "        if n_cuts == 0:\n",
    "            matrix_ineq_cut = np.zeros((N_try_cuts-n_cuts, 3*n_items))\n",
    "            array_ineq_bound = np.ones(N_try_cuts-n_cuts)\n",
    "\n",
    "        elif n_cuts < N_try_cuts:\n",
    "            zrsm = np.zeros((N_try_cuts-n_cuts, 3*n_items))\n",
    "            zrsv = np.ones(N_try_cuts-n_cuts)\n",
    "            matrix_ineq_cut = np.vstack((matrix_ineq_cut, zrsm))\n",
    "            array_ineq_bound = np.hstack((array_ineq_bound, zrsv))\n",
    "\n",
    "        else:\n",
    "            pass\n",
    "\n",
    "        array_ineq_bound = array_ineq_bound.reshape(-1)\n",
    "\n",
    "        matrix_ineq_cut = np.expand_dims(matrix_ineq_cut, 0)\n",
    "        array_ineq_bound = np.expand_dims(array_ineq_bound, 0)\n",
    "\n",
    "        cut = np.dstack((matrix_ineq_cut, array_ineq_bound))\n",
    "\n",
    "        return cut\n",
    "\n",
    "    \n",
    "    def forward_gomory_cut(self, y):\n",
    "        \"\"\"\n",
    "        This function applies N_try_cuts in the relaxed version of the MILP\n",
    "        formulation from \"milp_formulation\". The function returns the matrix \"mic\"\n",
    "        and the vector \"aic\" for each \"y_I\". Those outputs represent the cuts in a\n",
    "        form of inequalities mic*z<=aic. \n",
    "        Idea of Gomory cuts from Ferber, Wilder, Dilkina and Tambe (2019).\n",
    "        \"\"\"\n",
    "\n",
    "        y = y.detach().numpy()\n",
    "        n_batches, n_items = y.shape\n",
    "\n",
    "        mic = np.array([])\n",
    "        aib = np.array([])\n",
    "\n",
    "        cuts = Parallel(n_jobs=-1, backend='multiprocessing')(delayed(self.one_sample_cuts)(y_I) for y_I in y)   \n",
    "        cuts = np.vstack(cuts)\n",
    "        mic = cuts[:,:,:-1]\n",
    "        aic = cuts[:,:,-1]\n",
    "\n",
    "        return torch.tensor(mic), torch.tensor(aic)\n",
    "        \n",
    "       \n",
    "    def forward(self, y):\n",
    "        \"\"\"\n",
    "        Applies the qpth solver for all batches and allows backpropagation.\n",
    "        Formulation based on Priya L. Donti, Brandon Amos, J. Zico Kolter (2017).\n",
    "        Note: The quadratic terms (Q) are used as auxiliar terms only to allow the backpropagation through the \n",
    "        qpth library from Amos and Kolter. \n",
    "        We will set them as a small percentage of the linear terms (Wilder, Ewing, Dilkina, Tambe, 2019)\n",
    "        \"\"\"\n",
    "        \n",
    "        n_batches, n_items = y.size()\n",
    "        \n",
    "        assert self.n_items == n_items \n",
    "\n",
    "        Q = self.Q\n",
    "        Q = Q.expand(n_batches, Q.size(0), Q.size(1))\n",
    "\n",
    "        ineqs = torch.unsqueeze(self.ineqs, dim=0)\n",
    "        ineqs = ineqs.expand(n_batches, ineqs.shape[1], ineqs.shape[2])       \n",
    "\n",
    "        uncert_bound = (self.uncert_bound*torch.hstack((y, y)))\n",
    "        determ_bound = self.determ_bound.unsqueeze(dim=0).expand(\n",
    "            n_batches, self.determ_bound.shape[0])\n",
    "        bound = torch.hstack((uncert_bound, determ_bound))\n",
    "\n",
    "        # Adding the Gomory cuts as constraints\n",
    "        m, b = self.forward_gomory_cut(y)\n",
    "        ineqs = torch.hstack((ineqs, m))\n",
    "        bound = torch.hstack((bound, b))      \n",
    "        \n",
    "        e = torch.DoubleTensor()\n",
    "        \n",
    "        argmin = QPFunction(verbose=-1)\\\n",
    "            (Q.double(), self.lin.double(), ineqs.double(), \n",
    "             bound.double(), e, e).double()\n",
    "            \n",
    "        return argmin[:,:n_items]"
   ]
  },
  {
   "cell_type": "markdown",
   "metadata": {},
   "source": [
    "***\n",
    "$\\mathbf{\\text{Defining the solver as a function of the prediction (with constraints)}}$<br>\n",
    "***\n",
    "\n",
    "\\begin{align}\n",
    "z^*(\\hat{y_I}) = & argmin_z \\text{ } f(z,\\hat{y_I}) \\\\\n",
    "\\text{Subject to } & \\begin{cases}\n",
    "pr^Tz \\leq B \\\\\n",
    "si^Tz \\leq S \\\\\n",
    "z \\geq 0\n",
    "\\end{cases}\n",
    "\\end{align}"
   ]
  },
  {
   "cell_type": "markdown",
   "metadata": {},
   "source": [
    "##### Note that here we still use the relaxed version of the MILP, but considering the gomory cuts. The difference is that the integrality gap will be lower and hopefully the continuous results will becloser to theoptimal integer decision."
   ]
  },
  {
   "cell_type": "code",
   "execution_count": 39,
   "metadata": {},
   "outputs": [],
   "source": [
    "def argmin_solver(y_pred):\n",
    "    z_star = newsvendor_solve_gomory_kkt.forward(y_pred)\n",
    "    return z_star"
   ]
  },
  {
   "cell_type": "code",
   "execution_count": 40,
   "metadata": {},
   "outputs": [],
   "source": [
    "# Combined approach (mse loss)\n",
    "hc = ANN(n_feat=dx)\n",
    "opt_hc = torch.optim.Adam(hc.parameters(), lr=0.003)"
   ]
  },
  {
   "cell_type": "code",
   "execution_count": 41,
   "metadata": {},
   "outputs": [],
   "source": [
    "# Construct the solver\n",
    "newsvendor_solve_gomory_kkt = SolveNewsvendorWithGomoryAndKKT(params_t, params_np)"
   ]
  },
  {
   "cell_type": "code",
   "execution_count": null,
   "metadata": {},
   "outputs": [
    {
     "name": "stdout",
     "output_type": "stream",
     "text": [
      "COMBINED: Train:  f: 96996.71 \tVal:  f: 100231.58\n",
      "COMBINED: Train:  f: 96189.95 \tVal:  f: 99351.14\n",
      "COMBINED: Train:  f: 91433.44 \tVal:  f: 93983.5\n",
      "COMBINED: Train:  f: 87180.4 \tVal:  f: 89459.35\n",
      "COMBINED: Train:  f: 81546.3 \tVal:  f: 83219.35\n",
      "COMBINED: Train:  f: 74967.24 \tVal:  f: 75931.6\n",
      "COMBINED: Train:  f: 69025.63 \tVal:  f: 69635.51\n",
      "COMBINED: Train:  f: 66484.56 \tVal:  f: 67123.88\n",
      "COMBINED: Train:  f: 65558.79 \tVal:  f: 66222.24\n",
      "COMBINED: Train:  f: 65198.08 \tVal:  f: 65841.46\n",
      "COMBINED: Train:  f: 65008.06 \tVal:  f: 65719.83\n",
      "COMBINED: Train:  f: 64928.3 \tVal:  f: 65665.27\n",
      "COMBINED: Train:  f: 65525.13 \tVal:  f: 66270.28\n",
      "COMBINED: Train:  f: 64891.75 \tVal:  f: 65586.22\n",
      "COMBINED: Train:  f: 64875.3 \tVal:  f: 65566.34\n",
      "COMBINED: Train:  f: 67764.4 \tVal:  f: 68419.89\n",
      "COMBINED: Train:  f: 65653.37 \tVal:  f: 66309.31\n",
      "COMBINED: Train:  f: 65014.58 \tVal:  f: 65694.28\n",
      "COMBINED: Train:  f: 66131.53 \tVal:  f: 66690.99\n",
      "COMBINED: Train:  f: 65125.28 \tVal:  f: 65869.85\n",
      "COMBINED: Train:  f: 64737.89 \tVal:  f: 65499.52\n",
      "COMBINED: Train:  f: 64665.43 \tVal:  f: 65468.03\n",
      "COMBINED: Train:  f: 64681.49 \tVal:  f: 65467.11\n",
      "COMBINED: Train:  f: 64977.76 \tVal:  f: 65711.49\n"
     ]
    }
   ],
   "source": [
    "it_plot_com = []\n",
    "obj_costs_com = []\n",
    "\n",
    "ev_it = 10\n",
    "i=0\n",
    "\n",
    "for b in batches_idx:\n",
    "    \n",
    "    x_tr = X_train[b]\n",
    "    y_tr = y_train[b]\n",
    "\n",
    "    opt_hc.zero_grad()\n",
    "    preds_hc = hc(x_tr)\n",
    "    \n",
    "    train_cost_f = cost_fn(preds_hc.reshape(-1), y_tr.reshape(-1))\n",
    "    train_cost_f.backward()\n",
    "    opt_hc.step()\n",
    "    \n",
    "   \n",
    "    if i%ev_it == 0:  \n",
    "        \n",
    "        with torch.no_grad():\n",
    "            train_cost_com = cost_fn(hc(X_train), y_train)\n",
    "            val_cost_com = cost_fn(hc(X_val).reshape(-1), y_val.reshape(-1))\n",
    "\n",
    "        it_plot_com.append(i)\n",
    "        #rmse_costs_com.append(val_rmse_sep.data.item())\n",
    "        obj_costs_com.append(val_cost_com.data.item())\n",
    "             \n",
    "        print(\n",
    "              'COMBINED: Train: ', \n",
    "               'f:', round(train_cost_com.data.item(), 2), \n",
    "               #'rmse:', round(train_rmse_sep.data.item(), 2), \n",
    "               '\\tVal: ', \n",
    "               'f:', round(val_cost_com.data.item(), 2), \n",
    "               #'rmse:', round(val_rmse_sep.data.item(), 2)\n",
    "        )\n",
    "        \n",
    "    i = i+1"
   ]
  },
  {
   "cell_type": "code",
   "execution_count": null,
   "metadata": {},
   "outputs": [],
   "source": [
    "y_pred = hc(X_test)"
   ]
  },
  {
   "cell_type": "markdown",
   "metadata": {},
   "source": [
    "***\n",
    "$\\mathbf{\\text{Defining the solver as a function of the prediction (with constraints)}}$<br>\n",
    "***\n",
    "\n",
    "\\begin{align}\n",
    "z^*(\\hat{y_I}) = & argmin_z \\text{ } f(z,\\hat{y_I}) \\\\\n",
    "\\text{Subject to } & \\begin{cases}\n",
    "pr^Tz \\leq B \\\\\n",
    "si^Tz \\leq S \\\\\n",
    "z \\geq 0 \\\\\n",
    "z \\in \\mathbb{Z}\n",
    "\\end{cases}\n",
    "\\end{align}"
   ]
  },
  {
   "cell_type": "code",
   "execution_count": null,
   "metadata": {},
   "outputs": [],
   "source": [
    "def argmin_solver(y_pred):\n",
    "    z_star = newsvendor_solve.solve_milp(y_pred, relax=False)\n",
    "    return z_star"
   ]
  },
  {
   "cell_type": "markdown",
   "metadata": {},
   "source": [
    "##### After training hc we need to compute the final decisions. And now the final decisions need to be integers (relax = False)"
   ]
  },
  {
   "cell_type": "markdown",
   "metadata": {},
   "source": [
    "***\n",
    "$\\mathbf{\\text{Compute the final cost function (average through days) based on made decisions}}$<br>\n",
    "***\n",
    "\n",
    "\\begin{align}\n",
    "PredictedCost = \\frac{1}{N_{days}} \\sum_{I=1}^{N_{days}} f(z^*(\\hat{y_I}),y_I) \n",
    "\\end{align}"
   ]
  },
  {
   "cell_type": "code",
   "execution_count": null,
   "metadata": {},
   "outputs": [],
   "source": [
    "pred_cost_32 = cost_fn(y_pred, y_test)\n",
    "print('Final cost on Test Data:', round(pred_cost_32.item(), 2))"
   ]
  },
  {
   "cell_type": "markdown",
   "metadata": {},
   "source": [
    "***\n",
    "$\\mathbf{\\text{Compute the final cost function (average through days) based on BEST decisions}}$<br>\n",
    "***\n",
    "\n",
    "\\begin{align}\n",
    "OptimalCost=\\frac{1}{N_{days}} \\sum_{I=1}^{N_{days}} f(z^*(y_I),y_I) \n",
    "\\end{align}"
   ]
  },
  {
   "cell_type": "code",
   "execution_count": null,
   "metadata": {},
   "outputs": [],
   "source": [
    "best3_cost = cost_fn(y_test, y_test)\n",
    "print('Best cost on Test Data:', round(best3_cost.item(), 2))"
   ]
  },
  {
   "cell_type": "markdown",
   "metadata": {},
   "source": [
    "***\n",
    "$\\mathbf{\\text{Compute the cumulative regrets from 3.1 and 3.2}}$<br>\n",
    "***\n",
    "\n",
    "\\begin{align}\n",
    "Regret = PredictedCost-OptimalCost\n",
    "\\end{align}"
   ]
  },
  {
   "cell_type": "code",
   "execution_count": null,
   "metadata": {},
   "outputs": [],
   "source": [
    "regret31 = pred_cost_31 - best3_cost\n",
    "regret32 = pred_cost_32 - best3_cost\n",
    "\n",
    "print('Cumulative regret: \\n \\\n",
    "        3.1 -> {regret31} \\n \\\n",
    "        3.2 -> {regret32}  \\\n",
    "'.format(\n",
    "    regret31=int(regret31),\n",
    "    regret32=int(regret32),\n",
    "))"
   ]
  },
  {
   "cell_type": "markdown",
   "metadata": {},
   "source": [
    "***\n",
    "$\\mathbf{\\text{Compute the normalized regret from 3.1 and 3.2}}$<br>\n",
    "***\n",
    "\n",
    "\\begin{align}\n",
    "Normalized Regret = \\frac{Regret}{Optimal Cost} \n",
    "\\end{align}"
   ]
  },
  {
   "cell_type": "code",
   "execution_count": null,
   "metadata": {},
   "outputs": [],
   "source": [
    "cr31 = regret31/best3_cost\n",
    "cr32 = regret32/best3_cost\n",
    "\n",
    "print('Normalized regret: \\n \\\n",
    "        3.1 -> {cr31} \\n \\\n",
    "        3.2 -> {cr32}  \\\n",
    "'.format(\n",
    "    cr31=cr31,\n",
    "    cr32=cr32\n",
    "))"
   ]
  },
  {
   "cell_type": "markdown",
   "metadata": {},
   "source": [
    "## Conclusion and ideas to practitioners:\n",
    "\n",
    "#### 1. Perks of Decoupled Approaches -> Time saver\n",
    "Decoupled approaches run much faster than combined approaches. Notice that we truncate the data to work only with 50 random items. This is because for state-of-the-art combined approaches we need to use Mathematical Programming techniques iteratively, and it takes too much time mainly if the Optimization Problem is too complex. \n",
    "\n",
    "#### 2. Perks of Combined Approaches -> Money saver\n",
    "Comparing the final results, we normally have (we tested with many different parameters and we consistently had) lower regret using combined approaches. This is expected since the loss function is more aligned with the final goal.\n",
    "\n",
    "#### 3. Mixing Decoupled and Combined approaches\n",
    "We suggest the practitioner to try first updating the weight of the ANN using the MSE loss (1.1 training part). And then start the training using the KKT method (2.2 training part) loading the previous ways. This idea (not with KKT differentiation, but with other methods) was proposed by Mandi et al. (2020)\n",
    "\n",
    "#### 4. Early Stopping\n",
    "One can design the algorithm to stop based on the final operational cost (even though using decoupled approach). Notice that doing that requires to solve an Optimization Problem iteratively as well, but it does not require to solve the OP in every iteration. This technique will probably improve mainly the decoupled approaches results."
   ]
  }
 ],
 "metadata": {
  "kernelspec": {
   "display_name": "pao_env",
   "language": "python",
   "name": "pao_env"
  },
  "language_info": {
   "codemirror_mode": {
    "name": "ipython",
    "version": 3
   },
   "file_extension": ".py",
   "mimetype": "text/x-python",
   "name": "python",
   "nbconvert_exporter": "python",
   "pygments_lexer": "ipython3",
   "version": "3.8.10"
  }
 },
 "nbformat": 4,
 "nbformat_minor": 4
}
