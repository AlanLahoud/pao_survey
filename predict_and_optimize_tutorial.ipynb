{
 "cells": [
  {
   "cell_type": "code",
   "execution_count": 1,
   "metadata": {},
   "outputs": [
    {
     "name": "stderr",
     "output_type": "stream",
     "text": [
      "/home/alan/Desktop/envs/pao_env/lib/python3.8/site-packages/tqdm/auto.py:22: TqdmWarning: IProgress not found. Please update jupyter and ipywidgets. See https://ipywidgets.readthedocs.io/en/stable/user_install.html\n",
      "  from .autonotebook import tqdm as notebook_tqdm\n"
     ]
    }
   ],
   "source": [
    "import pandas as pd\n",
    "import numpy as np\n",
    "import random\n",
    "\n",
    "import feat_eng as fe\n",
    "import data_selector_items as dsi\n",
    "import params_newsvendor as prm\n",
    "\n",
    "import torch\n",
    "import torch.nn as nn\n",
    "import torch.optim as optim\n",
    "\n",
    "from mip import Model, xsum, minimize, INTEGER, CONTINUOUS, CutType, OptimizationStatus\n",
    "\n",
    "from qpth.qp import QPFunction\n",
    "\n",
    "from joblib import Parallel, delayed\n",
    "\n",
    "from sklearn.preprocessing import MinMaxScaler\n",
    "\n",
    "from torch.multiprocessing import Pool, Process, set_start_method\n",
    "try:\n",
    "     set_start_method('spawn')\n",
    "except RuntimeError:\n",
    "    pass"
   ]
  },
  {
   "cell_type": "code",
   "execution_count": 2,
   "metadata": {},
   "outputs": [],
   "source": [
    "is_cuda = False\n",
    "dev = torch.device('cpu')  \n",
    "if torch.cuda.is_available():\n",
    "    is_cuda = True\n",
    "    dev = torch.device('cuda')  "
   ]
  },
  {
   "cell_type": "markdown",
   "metadata": {},
   "source": [
    "## Introduction\n",
    "\n",
    "#### This tutorial is connected to the paper \"Predict-and-Optimize: A survey on problem variations and approaches.\" Here, we aim to show that finding data-driven decisions (from an incomplete but predictable Optimization Problem) using Gradient Descent approaches with Operational loss functions (combined approaches) usually is better than separating your predictions from the Optimization Problem (decoupled approaches).\n",
    "\n",
    "##### Decoupled approaches: First uses Machine Learning techniques to find predictions. And then uses those predictions to formulate and solve an Optimization Problem.\n",
    "\n",
    "##### Combined approaches: Uses Machine Learning and Mathematical Programming techniques in each step of the learning to solve the incomplete Optimization Problem "
   ]
  },
  {
   "cell_type": "markdown",
   "metadata": {},
   "source": [
    "***\n",
    "$\\mathbf{\\text{Table of content}}$<br>\n",
    "\n",
    "$\\mathbf{\\text{0. Data}}$<br>\n",
    "\n",
    "$\\mathbf{\\text{1. Vanilla Newsvendor Problem}}$<br>\n",
    "\n",
    "1.1 Decoupled approach\n",
    "\n",
    "1.2 Combined approach\n",
    "\n",
    "1.3 Regret evaluation\n",
    "\n",
    "$\\mathbf{\\text{2. Adding a Budget constraint}}$<br>\n",
    "\n",
    "2.1 Decoupled approach\n",
    "   \n",
    "2.2 Combined state-of-the-art approach (KKT differentiation)\n",
    "\n",
    "2.3 Regret evaluation\n",
    "\n",
    "$\\mathbf{\\text{3. Adding Integrality constraints (Discrete OP)}}$<br>\n",
    "\n",
    "3.1 Decoupled approach\n",
    "\n",
    "3.2 Combined state-of-the-art approach (Gomory cuts + KKT differentiation)\n",
    "\n",
    "3.3 Regret evaluation"
   ]
  },
  {
   "cell_type": "markdown",
   "metadata": {},
   "source": [
    "## 0. Data"
   ]
  },
  {
   "cell_type": "code",
   "execution_count": 3,
   "metadata": {},
   "outputs": [],
   "source": [
    "# Setting the seeds to allow replication\n",
    "# Changing the seed might require hyperparameter tuning again\n",
    "# Because it changes the deterministic parameters\n",
    "seed_number = 0\n",
    "np.random.seed(seed_number)\n",
    "torch.manual_seed(seed_number)\n",
    "random.seed(seed_number)"
   ]
  },
  {
   "cell_type": "code",
   "execution_count": 4,
   "metadata": {},
   "outputs": [],
   "source": [
    "# Path of data files\n",
    "path_data = './data/'\n",
    "\n",
    "# Read historical data\n",
    "sales = pd.read_csv(path_data + 'sales_train_evaluation.csv')\n",
    "\n",
    "# Spliting the data in days\n",
    "start_tr_day = 800 # Avoid changing start date\n",
    "start_val_day = 1442\n",
    "start_test_day = 1542\n",
    "end_day = 1641\n",
    "\n",
    "# N of items to use (Lower will be much faster)\n",
    "n_items = 100\n",
    "\n",
    "# All useful items\n",
    "sku_ids = dsi.select_items(sales, start_tr_day)\n",
    "\n",
    "# Sample only n_items to use\n",
    "random.seed(seed_number)\n",
    "sku_ids = random.sample(sku_ids, n_items)\n",
    "sku_ids = list(set(sku_ids))\n",
    "n_items = len(sku_ids)\n",
    "\n",
    "\n",
    "# Build training and test from historical data\n",
    "data_train, data_val, data_test, feat, n_items = fe.build_data(\n",
    "    path_data, sales, sku_ids, \n",
    "    start_tr_day, start_val_day, start_test_day, end_day)\n",
    "\n",
    "data_train.fillna(0, inplace=True)\n",
    "data_val.fillna(0, inplace=True)\n",
    "data_test.fillna(0, inplace=True)\n",
    "\n",
    "dx = len(feat)\n",
    "\n",
    "# Number of batch_size samples in the SGDs\n",
    "batch_size = 32 # Number of days for combined approaches\n",
    "\n",
    "# Here we change a bit the test data in order to increase the integrality gap \n",
    "# of the optimization problem (didactic purpose). Otherwise the Continuous and \n",
    "# Discrete version would have approximately the same results.\n",
    "data_train['qty'] = data_train['qty']*np.random.normal(1, 0.07)\n",
    "data_val['qty'] = data_val['qty']*np.random.normal(1, 0.07)\n",
    "data_test['qty'] = data_test['qty']*np.random.normal(1, 0.07)\n",
    "\n",
    "scaler = MinMaxScaler()\n",
    "scaler.fit(data_train[feat])\n",
    "\n",
    "data_train.loc[:, feat] = scaler.transform(data_train[feat])\n",
    "data_val.loc[:, feat] = scaler.transform(data_val[feat])\n",
    "data_test.loc[:, feat] = scaler.transform(data_test[feat])\n",
    "        \n",
    "X_train = torch.tensor(np.array(data_train[feat]).astype('double'), requires_grad= True, device=dev)\n",
    "y_train = torch.tensor(np.array(data_train['qty']).astype('double'), requires_grad= True, device=dev)\n",
    "\n",
    "X_val = torch.tensor(np.array(data_val[feat]).astype('double'), requires_grad= True, device=dev)\n",
    "y_val = torch.tensor(np.array(data_val['qty']).astype('double'), requires_grad= True, device=dev)\n",
    "\n",
    "X_test = torch.tensor(np.array(data_test[feat]).astype('double'), requires_grad= True, device=dev)\n",
    "y_test = torch.tensor(np.array(data_test['qty']).astype('double'), requires_grad= True, device=dev)"
   ]
  },
  {
   "cell_type": "code",
   "execution_count": 5,
   "metadata": {},
   "outputs": [],
   "source": [
    "def generate_batches(data):\n",
    "    batches_idx = []\n",
    "    n_batches = int(np.floor(data['d'].nunique() / batch_size))\n",
    "    for i in range(0, n_batches):\n",
    "        days = data['d'].unique()\n",
    "        idx = data[data['d'].isin(\n",
    "            np.random.choice(days, batch_size, replace=False))].index.tolist()\n",
    "        if len(idx) == n_items*batch_size:\n",
    "            batches_idx.append(idx)\n",
    "    return batches_idx"
   ]
  },
  {
   "cell_type": "markdown",
   "metadata": {},
   "source": [
    "## 1. Vanilla Newsvendor Problem"
   ]
  },
  {
   "cell_type": "markdown",
   "metadata": {},
   "source": [
    "***\n",
    "$\\mathbf{\\text{Notation}}$<br>\n",
    "***\n",
    "\n",
    "\\begin{align}\n",
    "&f_{day}: \\text{Objective (Cost) Function for the } I^{th} \\text{ day of sales}\\\\\n",
    "&z: \\text{Decision Variable (Orders to make for each item)}\\\\\n",
    "&y_I: \\text{Unknown but predictable parameter (Demand for each item for the day I)}\\\\\\\\\n",
    "\\end{align}\n",
    "\n",
    "***\n",
    "$\\mathbf{\\text{Deterministic Parameters}}$<br>\n",
    "***\n",
    "\n",
    "\\begin{align}\n",
    "&c: \\text{ Linear constant for transport cost }  \\\\\n",
    "&c_s: \\text{Linear constant for shortage cost  }  \\\\\n",
    "&c_w: \\text{Linear constant for excess cost } \\\\\\\\\n",
    "\\end{align}\n",
    "\n",
    "***\n",
    "$\\mathbf{\\text{Objective function}}$<br>\n",
    "***\n",
    "\n",
    "\\begin{align}\n",
    "f(z,y_I) = c^Tz + c_s^T max(0, y_I-z) + c_w^T max(0, z-y_I)\n",
    "\\end{align}"
   ]
  },
  {
   "cell_type": "code",
   "execution_count": 6,
   "metadata": {},
   "outputs": [],
   "source": [
    "params_t, params_np = prm.get_params(n_items, is_discrete=False, \n",
    "                                     q_factor = 0.01, # Quadratic penalty factor\n",
    "                                     seed_number=0)"
   ]
  },
  {
   "cell_type": "code",
   "execution_count": 7,
   "metadata": {},
   "outputs": [
    {
     "name": "stdout",
     "output_type": "stream",
     "text": [
      "Example of deterministic parameters: tensor([147., 109.])\n"
     ]
    }
   ],
   "source": [
    "print('Example of deterministic parameters:', params_t['cs'][:2])"
   ]
  },
  {
   "cell_type": "code",
   "execution_count": 8,
   "metadata": {},
   "outputs": [],
   "source": [
    "cost_per_item = lambda Z, Y : params_t['c'].to(dev)*Z.to(dev) \\\n",
    "                            + params_t['cs'].to(dev)*torch.max(torch.zeros((n_items)).to(dev),Y.to(dev)-Z.to(dev)) \\\n",
    "                            + params_t['cw'].to(dev)*torch.max(torch.zeros((n_items)).to(dev),Z.to(dev)-Y.to(dev))\n",
    "\n",
    "\n",
    "def reshape_outcomes(y_pred, y):\n",
    "    y_pred = torch.reshape(y_pred, (y_pred.shape[0]//n_items, n_items))\n",
    "    y = torch.reshape(y, (y.shape[0]//n_items, n_items))\n",
    "    return y_pred, y\n",
    "\n",
    "def calc_f_por_item(y_pred, y):\n",
    "    y_pred, y = reshape_outcomes(y_pred, y)\n",
    "    z_star =  argmin_solver(y_pred)\n",
    "    f_per_item = cost_per_item(z_star, y)\n",
    "    return f_per_item\n",
    "\n",
    "def calc_f_per_day(y_pred, y):\n",
    "    f_per_item = calc_f_por_item(y_pred, y)\n",
    "    f = torch.sum(f_per_item, 1)\n",
    "    return f"
   ]
  },
  {
   "cell_type": "markdown",
   "metadata": {},
   "source": [
    "### 1.1 Vanilla Newsvendor Problem - Decoupled Approach"
   ]
  },
  {
   "cell_type": "code",
   "execution_count": 9,
   "metadata": {},
   "outputs": [],
   "source": [
    "#################################################################################\n",
    "## Model (h: X->Y) constructor ##################################################\n",
    "#################################################################################\n",
    "\n",
    "class ANN(nn.Module):\n",
    "    # Initialize the layers\n",
    "    def __init__(self, n_feat):\n",
    "        super().__init__()\n",
    "        \n",
    "        self.act1 = nn.ReLU()\n",
    "        self.act2 = nn.Tanh()\n",
    "        self.bn = nn.BatchNorm1d(n_feat).double()\n",
    "        self.linear1 = nn.Linear(n_feat, 15).double()\n",
    "        self.bn2 = nn.BatchNorm1d(15).double()\n",
    "        self.linear2 = nn.Linear(15, 1).double()\n",
    "    \n",
    "    # Perform the computation\n",
    "    def forward(self, x):\n",
    "        x = self.bn(x)\n",
    "        x = self.linear1(x)\n",
    "        x = self.act1(x)\n",
    "        x = self.bn2(x)\n",
    "        x = self.linear2(x)\n",
    "        x = self.act1(x)\n",
    "        return x\n",
    "    \n",
    "    \n",
    "# Decoupled approach (mse loss)\n",
    "h = ANN(n_feat=dx).to(dev)\n",
    "opt_h = torch.optim.Adam(h.parameters(), lr=0.005)\n",
    "mse_loss = nn.MSELoss()\n",
    "\n",
    "\n",
    "def train_one_epoch(X_train, y_train, loss_function, optimizer, model):\n",
    "    \n",
    "    batches_idx = generate_batches(data_train)\n",
    "    \n",
    "    for b in batches_idx:\n",
    "        x_tr = X_train[b]\n",
    "        y_tr = y_train[b]\n",
    "\n",
    "        optimizer.zero_grad()\n",
    "        preds = model(x_tr)\n",
    "\n",
    "        train_loss = loss_function(preds.reshape(-1), y_tr.reshape(-1))\n",
    "        train_loss.backward()\n",
    "        optimizer.step()\n",
    "        \n",
    "        \n",
    "def validate_one_epoch(X, y, model, data):\n",
    "    \n",
    "    batches_idx = generate_batches(data)\n",
    "    f_sum = 0\n",
    "    \n",
    "    with torch.no_grad():\n",
    "        for b in batches_idx:\n",
    "            x_ = X[b]\n",
    "            y_ = y[b]\n",
    "    \n",
    "            f_ = cost_fn(model(x_).reshape(-1), y_.reshape(-1))  \n",
    "            f_sum = f_sum + f_\n",
    "\n",
    "    return f_sum/len(batches_idx)"
   ]
  },
  {
   "cell_type": "code",
   "execution_count": 10,
   "metadata": {},
   "outputs": [
    {
     "name": "stdout",
     "output_type": "stream",
     "text": [
      "DECOUPLED: Train:  mse: 35.11 \tVal:  mse: 21.01\n",
      "DECOUPLED: Train:  mse: 27.48 \tVal:  mse: 15.78\n",
      "DECOUPLED: Train:  mse: 24.07 \tVal:  mse: 13.69\n",
      "DECOUPLED: Train:  mse: 22.52 \tVal:  mse: 12.49\n",
      "DECOUPLED: Train:  mse: 21.69 \tVal:  mse: 12.05\n",
      "DECOUPLED: Train:  mse: 21.27 \tVal:  mse: 11.78\n",
      "DECOUPLED: Train:  mse: 21.09 \tVal:  mse: 11.59\n",
      "DECOUPLED: Train:  mse: 20.99 \tVal:  mse: 11.57\n",
      "DECOUPLED: Train:  mse: 20.94 \tVal:  mse: 11.66\n",
      "DECOUPLED: Train:  mse: 20.91 \tVal:  mse: 11.83\n",
      "DECOUPLED: Train:  mse: 20.9 \tVal:  mse: 11.64\n",
      "DECOUPLED: Train:  mse: 20.89 \tVal:  mse: 11.95\n",
      "DECOUPLED: Train:  mse: 20.87 \tVal:  mse: 11.93\n",
      "DECOUPLED: Train:  mse: 20.88 \tVal:  mse: 11.88\n",
      "DECOUPLED: Train:  mse: 20.92 \tVal:  mse: 11.6\n",
      "DECOUPLED: Train:  mse: 20.91 \tVal:  mse: 11.77\n",
      "DECOUPLED: Train:  mse: 20.92 \tVal:  mse: 11.54\n",
      "DECOUPLED: Train:  mse: 20.92 \tVal:  mse: 11.58\n",
      "DECOUPLED: Train:  mse: 20.92 \tVal:  mse: 11.7\n",
      "DECOUPLED: Train:  mse: 20.93 \tVal:  mse: 11.55\n",
      "DECOUPLED: Train:  mse: 20.91 \tVal:  mse: 11.56\n",
      "DECOUPLED: Train:  mse: 20.9 \tVal:  mse: 11.53\n",
      "DECOUPLED: Train:  mse: 20.91 \tVal:  mse: 11.66\n",
      "DECOUPLED: Train:  mse: 20.9 \tVal:  mse: 11.52\n",
      "DECOUPLED: Train:  mse: 20.89 \tVal:  mse: 11.5\n",
      "DECOUPLED: Train:  mse: 20.91 \tVal:  mse: 11.8\n",
      "DECOUPLED: Train:  mse: 20.9 \tVal:  mse: 11.38\n",
      "DECOUPLED: Train:  mse: 20.89 \tVal:  mse: 11.62\n",
      "DECOUPLED: Train:  mse: 20.89 \tVal:  mse: 11.61\n",
      "DECOUPLED: Train:  mse: 20.89 \tVal:  mse: 11.51\n",
      "DECOUPLED: Train:  mse: 20.89 \tVal:  mse: 11.49\n",
      "DECOUPLED: Train:  mse: 20.88 \tVal:  mse: 11.74\n",
      "DECOUPLED: Train:  mse: 20.86 \tVal:  mse: 11.54\n",
      "DECOUPLED: Train:  mse: 20.85 \tVal:  mse: 11.44\n",
      "DECOUPLED: Train:  mse: 20.86 \tVal:  mse: 11.67\n",
      "DECOUPLED: Train:  mse: 20.85 \tVal:  mse: 11.54\n",
      "DECOUPLED: Train:  mse: 20.85 \tVal:  mse: 11.6\n",
      "DECOUPLED: Train:  mse: 20.85 \tVal:  mse: 11.49\n",
      "DECOUPLED: Train:  mse: 20.85 \tVal:  mse: 11.68\n",
      "DECOUPLED: Train:  mse: 20.88 \tVal:  mse: 11.23\n",
      "DECOUPLED: Train:  mse: 20.86 \tVal:  mse: 11.72\n",
      "DECOUPLED: Train:  mse: 20.84 \tVal:  mse: 11.49\n",
      "DECOUPLED: Train:  mse: 20.85 \tVal:  mse: 11.76\n",
      "DECOUPLED: Train:  mse: 20.85 \tVal:  mse: 11.44\n",
      "DECOUPLED: Train:  mse: 20.84 \tVal:  mse: 11.39\n",
      "DECOUPLED: Train:  mse: 20.83 \tVal:  mse: 11.7\n",
      "DECOUPLED: Train:  mse: 20.81 \tVal:  mse: 11.68\n",
      "DECOUPLED: Train:  mse: 20.87 \tVal:  mse: 11.38\n",
      "DECOUPLED: Train:  mse: 20.84 \tVal:  mse: 11.73\n",
      "DECOUPLED: Train:  mse: 20.83 \tVal:  mse: 11.7\n"
     ]
    }
   ],
   "source": [
    "n_epochs = 50\n",
    "\n",
    "rmse_costs_sep = []\n",
    "\n",
    "for i in range(0, n_epochs):\n",
    "    train_one_epoch(X_train, y_train, mse_loss, opt_h, h)\n",
    "    \n",
    "    with torch.no_grad():\n",
    "        train_rmse_sep = mse_loss(h(X_train).reshape(-1), y_train.reshape(-1))  \n",
    "        val_rmse_sep = mse_loss(h(X_val).reshape(-1), y_val.reshape(-1))\n",
    "\n",
    "        rmse_costs_sep.append(val_rmse_sep.data.item())\n",
    "\n",
    "        print(\n",
    "              'DECOUPLED: Train: ', \n",
    "               'mse:', round(train_rmse_sep.data.item(), 2), \n",
    "               '\\tVal: ', \n",
    "               'mse:', round(val_rmse_sep.data.item(), 2))"
   ]
  },
  {
   "cell_type": "markdown",
   "metadata": {},
   "source": [
    "***\n",
    "$\\mathbf{\\text{Predicting all test outcomes (demand of sales)}}$<br>\n",
    "***\n",
    "\n",
    "\\begin{align}\n",
    "\\hat{Y} = h(X)\n",
    "\\end{align}\n",
    "\n",
    "##### Note that $Y = [y_I]_1^{N_{days}}$"
   ]
  },
  {
   "cell_type": "code",
   "execution_count": 11,
   "metadata": {},
   "outputs": [],
   "source": [
    "y_pred = h(X_test)"
   ]
  },
  {
   "cell_type": "markdown",
   "metadata": {},
   "source": [
    "***\n",
    "$\\mathbf{\\text{Defining the solver as a function of the prediction (without constraints)}}$<br>\n",
    "***\n",
    "\n",
    "\\begin{align}\n",
    "z^*(\\hat{y_I}) = argmin_z \\text{ } f(z,\\hat{y_I}) \\\\ subject \\quad to \\quad z\\geq0\n",
    "\\end{align}\n",
    "\n",
    "##### In this case (1.1 and 1.2), we consider an analytical solution to calculate the argmin that allows simple backpropagation via pytorch. This is possible because theproblem is still simple, the only constraint is that z>=0"
   ]
  },
  {
   "cell_type": "markdown",
   "metadata": {},
   "source": [
    "***\n",
    "$\\mathbf{\\text{The analytical solution to find the argmin in this case is trivial:}}$<br>\n",
    "***\n",
    "\n",
    "\\begin{align}\n",
    "z^*(\\hat{y_I}) = \\hat{y_I} \\\\ \n",
    "\\end{align}\n",
    "\n",
    "This is because we set $c<c_s$ for all items"
   ]
  },
  {
   "cell_type": "code",
   "execution_count": 12,
   "metadata": {},
   "outputs": [],
   "source": [
    "# Analytical solution to find the argmin\n",
    "# This function allows autograd (backpropagation)\n",
    "def argmin_solver(y_pred):\n",
    "    z_star = torch.where(params_t['c'].to(dev)>=params_t['cs'].to(dev), \n",
    "                         torch.tensor(0.0).double().to(dev), y_pred).double()\n",
    "    return z_star"
   ]
  },
  {
   "cell_type": "markdown",
   "metadata": {},
   "source": [
    "***\n",
    "$\\mathbf{\\text{Compute the final cost function (average through days) based on made decisions}}$<br>\n",
    "***\n",
    "\n",
    "\\begin{align}\n",
    "\\frac{1}{N_{days}} \\sum_{I=1}^{N_{days}} f(z^*(\\hat{y_I}),y_I) \n",
    "\\end{align}"
   ]
  },
  {
   "cell_type": "code",
   "execution_count": 13,
   "metadata": {},
   "outputs": [],
   "source": [
    "def cost_fn(y_pred, y):\n",
    "    f = calc_f_per_day(y_pred, y)\n",
    "    f_total = torch.mean(f)\n",
    "    return f_total"
   ]
  },
  {
   "cell_type": "code",
   "execution_count": 14,
   "metadata": {},
   "outputs": [
    {
     "name": "stdout",
     "output_type": "stream",
     "text": [
      "Final cost on Test Data: 64757.76\n"
     ]
    }
   ],
   "source": [
    "pred_cost_11 = cost_fn(y_pred, y_test)\n",
    "print('Final cost on Test Data:', round(pred_cost_11.item(), 2))"
   ]
  },
  {
   "cell_type": "markdown",
   "metadata": {},
   "source": [
    "### 1.2 Vanilla Newsvendor Problem - Combined Approach"
   ]
  },
  {
   "cell_type": "code",
   "execution_count": 15,
   "metadata": {},
   "outputs": [],
   "source": [
    "# Combined approach (mse loss)\n",
    "hc = ANN(n_feat=dx).to(dev)\n",
    "opt_hc = torch.optim.Adam(hc.parameters(), lr=0.002)"
   ]
  },
  {
   "cell_type": "code",
   "execution_count": 16,
   "metadata": {},
   "outputs": [
    {
     "name": "stdout",
     "output_type": "stream",
     "text": [
      "COMBINED: Train:  f: 70589.11 \tVal:  f: 61472.06\n",
      "COMBINED: Train:  f: 67874.49 \tVal:  f: 59109.29\n",
      "COMBINED: Train:  f: 65855.94 \tVal:  f: 57531.53\n",
      "COMBINED: Train:  f: 64491.64 \tVal:  f: 56278.51\n",
      "COMBINED: Train:  f: 63447.01 \tVal:  f: 55564.32\n",
      "COMBINED: Train:  f: 62839.65 \tVal:  f: 55258.5\n",
      "COMBINED: Train:  f: 62419.69 \tVal:  f: 55027.87\n",
      "COMBINED: Train:  f: 62132.24 \tVal:  f: 54772.03\n",
      "COMBINED: Train:  f: 61889.31 \tVal:  f: 54600.67\n",
      "COMBINED: Train:  f: 61618.57 \tVal:  f: 54280.99\n",
      "COMBINED: Train:  f: 61331.45 \tVal:  f: 53996.32\n",
      "COMBINED: Train:  f: 61026.18 \tVal:  f: 53690.97\n",
      "COMBINED: Train:  f: 60730.25 \tVal:  f: 53554.47\n",
      "COMBINED: Train:  f: 60579.55 \tVal:  f: 53403.06\n",
      "COMBINED: Train:  f: 60498.09 \tVal:  f: 53416.67\n",
      "COMBINED: Train:  f: 60433.6 \tVal:  f: 53405.31\n",
      "COMBINED: Train:  f: 60371.23 \tVal:  f: 53366.78\n",
      "COMBINED: Train:  f: 60346.68 \tVal:  f: 53387.53\n",
      "COMBINED: Train:  f: 60321.24 \tVal:  f: 53372.89\n",
      "COMBINED: Train:  f: 60243.76 \tVal:  f: 53401.97\n",
      "COMBINED: Train:  f: 60253.51 \tVal:  f: 53252.36\n",
      "COMBINED: Train:  f: 60213.91 \tVal:  f: 53461.02\n",
      "COMBINED: Train:  f: 60223.52 \tVal:  f: 53205.99\n",
      "COMBINED: Train:  f: 60126.19 \tVal:  f: 53272.6\n",
      "COMBINED: Train:  f: 60088.64 \tVal:  f: 53231.98\n",
      "COMBINED: Train:  f: 60092.17 \tVal:  f: 53122.07\n",
      "COMBINED: Train:  f: 60070.6 \tVal:  f: 53027.14\n",
      "COMBINED: Train:  f: 60030.7 \tVal:  f: 53253.01\n",
      "COMBINED: Train:  f: 60058.84 \tVal:  f: 53196.2\n",
      "COMBINED: Train:  f: 60031.31 \tVal:  f: 53097.29\n",
      "COMBINED: Train:  f: 59978.71 \tVal:  f: 53161.31\n",
      "COMBINED: Train:  f: 59992.64 \tVal:  f: 53088.47\n",
      "COMBINED: Train:  f: 60000.53 \tVal:  f: 53012.63\n",
      "COMBINED: Train:  f: 59945.24 \tVal:  f: 53132.55\n",
      "COMBINED: Train:  f: 59986.37 \tVal:  f: 53110.61\n",
      "COMBINED: Train:  f: 59967.14 \tVal:  f: 53125.71\n",
      "COMBINED: Train:  f: 59953.72 \tVal:  f: 53023.58\n",
      "COMBINED: Train:  f: 59899.86 \tVal:  f: 53267.65\n",
      "COMBINED: Train:  f: 59931.98 \tVal:  f: 53154.8\n",
      "COMBINED: Train:  f: 59930.31 \tVal:  f: 53223.64\n",
      "COMBINED: Train:  f: 59859.89 \tVal:  f: 52997.41\n",
      "COMBINED: Train:  f: 59824.85 \tVal:  f: 53222.97\n",
      "COMBINED: Train:  f: 59822.55 \tVal:  f: 53234.12\n",
      "COMBINED: Train:  f: 59753.49 \tVal:  f: 53297.28\n",
      "COMBINED: Train:  f: 59757.88 \tVal:  f: 53110.03\n",
      "COMBINED: Train:  f: 59717.02 \tVal:  f: 53151.23\n",
      "COMBINED: Train:  f: 59743.23 \tVal:  f: 53241.63\n",
      "COMBINED: Train:  f: 59699.49 \tVal:  f: 53112.13\n",
      "COMBINED: Train:  f: 59661.57 \tVal:  f: 52988.28\n",
      "COMBINED: Train:  f: 59618.27 \tVal:  f: 53122.07\n"
     ]
    }
   ],
   "source": [
    "n_epochs = 50\n",
    "\n",
    "obj_costs_com = []\n",
    "\n",
    "for i in range(0, n_epochs):\n",
    "    train_one_epoch(X_train, y_train, cost_fn, opt_hc, hc)\n",
    "    \n",
    "    with torch.no_grad():\n",
    "        train_cost_com = cost_fn(hc(X_train).reshape(-1), y_train.reshape(-1))  \n",
    "        val_cost_com = cost_fn(hc(X_val).reshape(-1), y_val.reshape(-1))\n",
    "\n",
    "        obj_costs_com.append(val_cost_com.data.item())\n",
    "\n",
    "        print(\n",
    "                  'COMBINED: Train: ', \n",
    "                   'f:', round(train_cost_com.data.item(), 2), \n",
    "                   '\\tVal: ', \n",
    "                   'f:', round(val_cost_com.data.item(), 2))"
   ]
  },
  {
   "cell_type": "markdown",
   "metadata": {},
   "source": [
    "***\n",
    "$\\mathbf{\\text{Predicting all test outcomes (demand of sales)}}$<br>\n",
    "***\n",
    "\n",
    "\\begin{align}\n",
    "\\hat{Y} = h(X)\n",
    "\\end{align}\n",
    "\n",
    "Note that $Y = [y_I]_1^{N_{days}}$"
   ]
  },
  {
   "cell_type": "code",
   "execution_count": 17,
   "metadata": {},
   "outputs": [],
   "source": [
    "y_pred = hc(X_test)"
   ]
  },
  {
   "cell_type": "markdown",
   "metadata": {},
   "source": [
    "***\n",
    "$\\mathbf{\\text{Compute the final cost function (average through days) based on made decisions}}$<br>\n",
    "***\n",
    "\n",
    "\\begin{align}\n",
    "PredictedCost = \\frac{1}{N_{days}} \\sum_{I=1}^{N_{days}} f(z^*(\\hat{y_I}),y_I) \n",
    "\\end{align}"
   ]
  },
  {
   "cell_type": "code",
   "execution_count": 18,
   "metadata": {},
   "outputs": [
    {
     "name": "stdout",
     "output_type": "stream",
     "text": [
      "Final cost on Test Data: 57941.13\n"
     ]
    }
   ],
   "source": [
    "pred_cost_12 = cost_fn(y_pred, y_test)\n",
    "print('Final cost on Test Data:', round(pred_cost_12.item(), 2))"
   ]
  },
  {
   "cell_type": "markdown",
   "metadata": {},
   "source": [
    "***\n",
    "$\\mathbf{\\text{Compute the final cost function (average through days) based on BEST decisions}}$<br>\n",
    "***\n",
    "\n",
    "\\begin{align}\n",
    "Optimal Cost = \\frac{1}{N_{days}} \\sum_{I=1}^{N_{days}} f(z^*(y_I),y_I) \n",
    "\\end{align}"
   ]
  },
  {
   "cell_type": "code",
   "execution_count": 19,
   "metadata": {},
   "outputs": [
    {
     "name": "stdout",
     "output_type": "stream",
     "text": [
      "Best cost on Test Data: 27350.07\n"
     ]
    }
   ],
   "source": [
    "best1_cost = cost_fn(y_test, y_test)\n",
    "print('Best cost on Test Data:', round(best1_cost.item(), 2))"
   ]
  },
  {
   "cell_type": "markdown",
   "metadata": {},
   "source": [
    "***\n",
    "$\\mathbf{\\text{Compute the cumulative regrets from 1.1 and 1.2}}$<br>\n",
    "***\n",
    "\n",
    "\\begin{align}\n",
    "Regret = PredictedCost - OptimalCost\n",
    "\\end{align}"
   ]
  },
  {
   "cell_type": "code",
   "execution_count": 20,
   "metadata": {},
   "outputs": [
    {
     "name": "stdout",
     "output_type": "stream",
     "text": [
      "Cumulative regret: \n",
      "         1.1 -> 37407 \n",
      "         1.2 -> 30591 \n"
     ]
    }
   ],
   "source": [
    "regret11 = pred_cost_11 - best1_cost\n",
    "regret12 = pred_cost_12 - best1_cost\n",
    "\n",
    "print('Cumulative regret: \\n \\\n",
    "        1.1 -> {regret11} \\n \\\n",
    "        1.2 -> {regret12} \\\n",
    "'.format(\n",
    "    regret11=int(regret11),\n",
    "    regret12=int(regret12)\n",
    "))"
   ]
  },
  {
   "cell_type": "markdown",
   "metadata": {},
   "source": [
    "***\n",
    "$\\mathbf{\\text{Compute the normalized regret from 1.1 and 1.2}}$<br>\n",
    "***\n",
    "\n",
    "\\begin{align}\n",
    "Normalized Regret = \\frac{Regret}{Optimal Cost} \n",
    "\\end{align}"
   ]
  },
  {
   "cell_type": "code",
   "execution_count": 21,
   "metadata": {},
   "outputs": [
    {
     "name": "stdout",
     "output_type": "stream",
     "text": [
      "Normalized regret: \n",
      "         1.1 -> 1.3677369690913301 \n",
      "         1.2 -> 1.1185006451975454 \n"
     ]
    }
   ],
   "source": [
    "cr11 = regret11/best1_cost\n",
    "cr12 = regret12/best1_cost\n",
    "\n",
    "print('Normalized regret: \\n \\\n",
    "        1.1 -> {cr11} \\n \\\n",
    "        1.2 -> {cr12} \\\n",
    "'.format(\n",
    "    cr11=cr11,\n",
    "    cr12=cr12\n",
    "))"
   ]
  },
  {
   "cell_type": "markdown",
   "metadata": {},
   "source": [
    "## 2 Adding a Budget constraint"
   ]
  },
  {
   "cell_type": "markdown",
   "metadata": {},
   "source": [
    "##### This class formulates an Linear Programming (relaxed version of the MILP). We explain how to transform this problem in a Linear Program formulation in Section 6 in our article. "
   ]
  },
  {
   "cell_type": "code",
   "execution_count": 22,
   "metadata": {},
   "outputs": [],
   "source": [
    "class SolveNewsvendor():\n",
    "    def __init__(self, params_np):\n",
    "        super(SolveNewsvendor, self).__init__()\n",
    "            \n",
    "        n_items = len(params_np['c'])\n",
    "        self.n_items = n_items    \n",
    "            \n",
    "        # Numpy parameters for Gomory cuts\n",
    "        self.cost_vector = np.hstack((params_np['c'], params_np['cs'], params_np['cw']))\n",
    "        self.price_ineq_np = np.hstack((params_np['pr'], np.zeros(2*n_items)) )\n",
    "        self.size_ineq_np = np.hstack((params_np['si'], np.zeros(2*n_items)))\n",
    "        \n",
    "        \n",
    "        \n",
    "    def milp_formulation(self, y_I):\n",
    "        \"\"\"\n",
    "        Formulate the MILP to be used in \"solve_milp\"\n",
    "        We can solve the continuous version (LP) just passing relax = True in \"solve_milp\"\n",
    "        The MILP is formulated based on an outcome chunk y_I.\n",
    "        \"\"\"\n",
    "        m = Model(\"milp\")\n",
    "        m.verbose = 0\n",
    "\n",
    "        n_items_range = range(n_items)\n",
    "        n_variables = range(3*n_items)\n",
    "        \n",
    "        z = ([m.add_var(var_type=INTEGER) for i in range(0, n_items)] \n",
    "             + [m.add_var(var_type=CONTINUOUS) for i in range(n_items, 3*n_items)])\n",
    "\n",
    "        # linear objective function\n",
    "        m.objective = minimize(xsum(self.cost_vector[i] * z[i] for i in n_variables))\n",
    "\n",
    "        # all variables greater than zero\n",
    "        for i in n_variables:\n",
    "            m += -z[i] <= 0\n",
    "        # constraints on shortage variables\n",
    "        for i in range(0, n_items):\n",
    "            m += -z[i] - z[i + n_items] <= -y_I[i]\n",
    "        # constraints on excess variables\n",
    "        for i in range(0, n_items):\n",
    "            m += z[i] - z[i + 2*n_items] <= y_I[i]\n",
    "        # constraints on budget\n",
    "        m += xsum(self.price_ineq_np[i] * z[i] for i in n_variables) <= params_np['B']\n",
    "        \n",
    "        return m\n",
    "    \n",
    "    \n",
    "    def solve_milp(self, y, relax):\n",
    "        \"\"\"\n",
    "        The function solves the problem for each y_I in a batch\n",
    "        and return the argmin result for the whole batch\n",
    "        \"\"\"\n",
    "        y = y.cpu().detach().numpy()\n",
    "        n_batches, n_items = y.shape\n",
    "        \n",
    "        argmin = []\n",
    "        \n",
    "        for j in range(0, n_batches):\n",
    "            y_I = y[j]\n",
    "            m = self.milp_formulation(y_I)\n",
    "            status = m.optimize(relax = relax)\n",
    "        \n",
    "            argmin_sample = []\n",
    "            for v in m.vars:\n",
    "                argmin_sample.append(v.x)\n",
    "            argmin.append(argmin_sample[:n_items])\n",
    "             \n",
    "        return torch.tensor(argmin)"
   ]
  },
  {
   "cell_type": "code",
   "execution_count": 23,
   "metadata": {},
   "outputs": [
    {
     "name": "stdout",
     "output_type": "stream",
     "text": [
      "Example of price constant and budget constraints: [298. 273.] 56141.74\n"
     ]
    }
   ],
   "source": [
    "# Setting the Budget (sum of prices) upperbound (constraint)\n",
    "params_np['B'] = (params_np['pr'].sum()*y_test.median().item()*0.6).astype('float32')\n",
    "params_t['B'] = torch.tensor([params_np['B']])\n",
    "\n",
    "print('Example of price constant and budget constraints:', params_np['pr'][:2], round(params_t['B'].item(), 2))\n",
    "\n",
    "# Construct the solver\n",
    "newsvendor_solve = SolveNewsvendor(params_np)"
   ]
  },
  {
   "cell_type": "markdown",
   "metadata": {},
   "source": [
    "### 2.1 Adding a Budget constraints - Decoupled approach"
   ]
  },
  {
   "cell_type": "code",
   "execution_count": 24,
   "metadata": {},
   "outputs": [],
   "source": [
    "def argmin_solver(y_pred):\n",
    "    z_star = newsvendor_solve.solve_milp(y_pred, relax=True) # Solve the continuous version\n",
    "    return z_star"
   ]
  },
  {
   "cell_type": "markdown",
   "metadata": {},
   "source": [
    "***\n",
    "$\\mathbf{\\text{Defining the solver as a function of the prediction (with constraints)}}$<br>\n",
    "***\n",
    "\n",
    "\\begin{align}\n",
    "z^*(\\hat{y_I}) = & argmin_z \\text{ } f(z,\\hat{y_I}) \\\\\n",
    "\\text{Subject to } & \\begin{cases}\n",
    "pr^Tz \\leq B \\\\\n",
    "z \\geq 0\n",
    "\\end{cases}\n",
    "\\end{align}"
   ]
  },
  {
   "cell_type": "markdown",
   "metadata": {},
   "source": [
    "##### Now the function \"argmin_solver\" is replaced to a linear programming (relaxation of a MILP). This solver does not allow backpropagation in principle, so we will solve first in a decoupled manner."
   ]
  },
  {
   "cell_type": "markdown",
   "metadata": {},
   "source": [
    "##### The predictions are already done in 1.1 using MSE loss, so we leverage the same predictions"
   ]
  },
  {
   "cell_type": "markdown",
   "metadata": {},
   "source": [
    "***\n",
    "$\\mathbf{\\text{Compute the final cost function (average through days) based on made decisions}}$<br>\n",
    "***\n",
    "\n",
    "\\begin{align}\n",
    "PredictedCost = \\frac{1}{N_{days}} \\sum_{I=1}^{N_{days}} f(z^*(\\hat{y_I}),y_I) \n",
    "\\end{align}"
   ]
  },
  {
   "cell_type": "code",
   "execution_count": 25,
   "metadata": {
    "scrolled": true
   },
   "outputs": [
    {
     "name": "stdout",
     "output_type": "stream",
     "text": [
      "Final cost on Test Data: 62912.32\n"
     ]
    }
   ],
   "source": [
    "y_pred = h(X_test)\n",
    "pred_cost_21 = cost_fn(y_pred, y_test)\n",
    "print('Final cost on Test Data:', round(pred_cost_21.item(), 2))"
   ]
  },
  {
   "cell_type": "markdown",
   "metadata": {},
   "source": [
    "### 2.2 Adding a Budget constraints - Combined state-of-the-art approach"
   ]
  },
  {
   "cell_type": "markdown",
   "metadata": {},
   "source": [
    "##### This class formulates a Quadratic Programming using the library QPTH from Amos and Kolter (2017). We formulate the LP now as a QP (addinga penalty quadratic term) proposed by Wilder et al. (2019)"
   ]
  },
  {
   "cell_type": "code",
   "execution_count": 26,
   "metadata": {},
   "outputs": [],
   "source": [
    "class SolveNewsvendorWithKKT():\n",
    "    def __init__(self, params_t):\n",
    "        super(SolveNewsvendorWithKKT, self).__init__()\n",
    "            \n",
    "        n_items = len(params_t['c'])\n",
    "        self.n_items = n_items    \n",
    "            \n",
    "        # Torch parameters for KKT         \n",
    "        ident = torch.eye(n_items)\n",
    "        ident3 = torch.eye(3*n_items)\n",
    "        zeros_matrix = torch.zeros((n_items, n_items))\n",
    "        zeros_array = torch.zeros(n_items)\n",
    "        ones_array = torch.ones(n_items)\n",
    "             \n",
    "        self.Q = torch.diag(torch.hstack((params_t['q'], params_t['qs'], params_t['qw']))).to(dev)\n",
    "        self.lin = torch.hstack((params_t['c'], params_t['cs'], params_t['cw'])).to(dev)\n",
    "             \n",
    "        shortage_ineq = torch.hstack((-ident, -ident, zeros_matrix))\n",
    "        excess_ineq = torch.hstack((ident, zeros_matrix, -ident))\n",
    "        price_ineq = torch.hstack((params_t['pr'], zeros_array, zeros_array))\n",
    "        positive_ineq = -ident3\n",
    "        \n",
    "        self.ineqs = torch.vstack((shortage_ineq, excess_ineq, price_ineq, positive_ineq)).to(dev)\n",
    "\n",
    "        self.uncert_bound = torch.hstack((-ones_array, ones_array)).to(dev)\n",
    "        self.determ_bound = torch.tensor([params_t['B']]) \n",
    "        self.determ_bound = torch.hstack((self.determ_bound, \n",
    "                                          torch.zeros(n_items), \n",
    "                                          torch.zeros(n_items), \n",
    "                                          torch.zeros(n_items))).to(dev)\n",
    "        \n",
    "        \n",
    "        \n",
    "    def forward(self, y):\n",
    "        \"\"\"\n",
    "        Applies the qpth solver for all batches and allows backpropagation.\n",
    "        Formulation based on Priya L. Donti, Brandon Amos, J. Zico Kolter (2017).\n",
    "        Note: The quadratic terms (Q) are used as auxiliar terms only to allow the backpropagation through the \n",
    "        qpth library from Amos and Kolter. \n",
    "        We will set them as a small percentage of the linear terms (Wilder, Ewing, Dilkina, Tambe, 2019)\n",
    "        \"\"\"\n",
    "        \n",
    "        n_batches, n_items = y.size()\n",
    "        \n",
    "        assert self.n_items == n_items \n",
    "\n",
    "        Q = self.Q\n",
    "        Q = Q.expand(n_batches, Q.size(0), Q.size(1))\n",
    "\n",
    "        ineqs = torch.unsqueeze(self.ineqs, dim=0)\n",
    "        ineqs = ineqs.expand(n_batches, ineqs.shape[1], ineqs.shape[2])       \n",
    "\n",
    "        uncert_bound = (self.uncert_bound*torch.hstack((y, y)))\n",
    "        determ_bound = self.determ_bound.unsqueeze(dim=0).expand(\n",
    "            n_batches, self.determ_bound.shape[0])\n",
    "        bound = torch.hstack((uncert_bound, determ_bound))     \n",
    "        \n",
    "        e = torch.DoubleTensor().to(dev)\n",
    "        \n",
    "        argmin = QPFunction(verbose=-1)\\\n",
    "            (Q.double(), self.lin.double(), ineqs.double(), \n",
    "             bound.double(), e, e).double()\n",
    "            \n",
    "        return argmin[:,:n_items]"
   ]
  },
  {
   "cell_type": "code",
   "execution_count": 27,
   "metadata": {},
   "outputs": [],
   "source": [
    "# Construct the solver\n",
    "newsvendor_solve_kkt = SolveNewsvendorWithKKT(params_t)"
   ]
  },
  {
   "cell_type": "code",
   "execution_count": 28,
   "metadata": {},
   "outputs": [],
   "source": [
    "# Combined approach (mse loss)\n",
    "hc = ANN(n_feat=dx).to(dev)\n",
    "opt_hc = torch.optim.Adam(hc.parameters(), lr=0.002)"
   ]
  },
  {
   "cell_type": "markdown",
   "metadata": {},
   "source": [
    "***\n",
    "$\\mathbf{\\text{Defining the solver as a function of the prediction (with constraints)}}$<br>\n",
    "***\n",
    "\n",
    "\\begin{align}\n",
    "z^*(\\hat{y_I}) = & argmin_z \\text{ } f(z,\\hat{y_I}) \\\\\n",
    "\\text{Subject to } & \\begin{cases}\n",
    "pr^Tz \\leq B \\\\\n",
    "z \\geq 0\n",
    "\\end{cases}\n",
    "\\end{align}"
   ]
  },
  {
   "cell_type": "markdown",
   "metadata": {},
   "source": [
    "##### Now the function \"argmin_solver\" is replaced to a quadratic programming that allows backpropagation, and we use the method proposed by Priya Donti et al. (2017) to solve the problem"
   ]
  },
  {
   "cell_type": "code",
   "execution_count": 29,
   "metadata": {},
   "outputs": [],
   "source": [
    "def argmin_solver(y_pred):\n",
    "    z_star = newsvendor_solve_kkt.forward(y_pred)\n",
    "    return z_star"
   ]
  },
  {
   "cell_type": "code",
   "execution_count": 30,
   "metadata": {},
   "outputs": [
    {
     "name": "stderr",
     "output_type": "stream",
     "text": [
      "/home/alan/Desktop/envs/pao_env/lib/python3.8/site-packages/qpth/qp.py:83: UserWarning: torch.eig is deprecated in favor of torch.linalg.eig and will be removed in a future PyTorch release.\n",
      "torch.linalg.eig returns complex tensors of dtype cfloat or cdouble rather than real tensors mimicking complex tensors.\n",
      "L, _ = torch.eig(A)\n",
      "should be replaced with\n",
      "L_complex = torch.linalg.eigvals(A)\n",
      "and\n",
      "L, V = torch.eig(A, eigenvectors=True)\n",
      "should be replaced with\n",
      "L_complex, V_complex = torch.linalg.eig(A) (Triggered internally at  ../aten/src/ATen/native/BatchLinearAlgebra.cpp:2910.)\n",
      "  e, _ = torch.eig(Q[i])\n"
     ]
    },
    {
     "name": "stdout",
     "output_type": "stream",
     "text": [
      "COMBINED: Train:  f: 72116.27 \tVal:  f: 63101.57\n",
      "COMBINED: Train:  f: 68730.68 \tVal:  f: 60032.63\n",
      "COMBINED: Train:  f: 66796.12 \tVal:  f: 57795.36\n",
      "COMBINED: Train:  f: 64763.36 \tVal:  f: 57148.62\n",
      "COMBINED: Train:  f: 64031.41 \tVal:  f: 57119.35\n",
      "COMBINED: Train:  f: 63074.79 \tVal:  f: 56254.23\n",
      "COMBINED: Train:  f: 62932.76 \tVal:  f: 55209.83\n",
      "COMBINED: Train:  f: 62959.94 \tVal:  f: 55360.03\n",
      "COMBINED: Train:  f: 62789.57 \tVal:  f: 54367.23\n",
      "COMBINED: Train:  f: 63197.96 \tVal:  f: 55832.14\n",
      "COMBINED: Train:  f: 62661.27 \tVal:  f: 56047.62\n",
      "COMBINED: Train:  f: 62349.28 \tVal:  f: 56064.53\n",
      "COMBINED: Train:  f: 62642.3 \tVal:  f: 53800.31\n",
      "COMBINED: Train:  f: 62530.22 \tVal:  f: 55900.93\n",
      "COMBINED: Train:  f: 61751.8 \tVal:  f: 54141.92\n",
      "COMBINED: Train:  f: 62135.52 \tVal:  f: 53363.1\n",
      "COMBINED: Train:  f: 61119.52 \tVal:  f: 54996.45\n",
      "COMBINED: Train:  f: 62028.3 \tVal:  f: 54857.0\n",
      "COMBINED: Train:  f: 62334.31 \tVal:  f: 54507.77\n",
      "COMBINED: Train:  f: 61411.55 \tVal:  f: 54124.25\n"
     ]
    }
   ],
   "source": [
    "n_epochs = 20\n",
    "\n",
    "obj_costs_com = []\n",
    "\n",
    "for i in range(0, n_epochs):\n",
    "    train_one_epoch(X_train, y_train, cost_fn, opt_hc, hc)\n",
    "    \n",
    "    f_train = validate_one_epoch(X_train, y_train, hc, data_train)\n",
    "    f_val = validate_one_epoch(X_val, y_val, hc, data_val)\n",
    "\n",
    "    print(\n",
    "              'COMBINED: Train: ', \n",
    "               'f:', round(f_train.data.item(), 2), \n",
    "               '\\tVal: ', \n",
    "               'f:', round(f_val.data.item(), 2))"
   ]
  },
  {
   "cell_type": "markdown",
   "metadata": {},
   "source": [
    "***\n",
    "$\\mathbf{\\text{Predicting all test outcomes (demand of sales)}}$<br>\n",
    "***\n",
    "\n",
    "\\begin{align}\n",
    "\\hat{Y} = hc(X)\n",
    "\\end{align}\n",
    "\n",
    "##### Note that $Y = [y_I]_1^{N_{days}}$\n",
    "\n",
    "##### Also, note that now $hc$ was learned based on the cost function through the KKT differentiation, not on the MSE loss"
   ]
  },
  {
   "cell_type": "code",
   "execution_count": 31,
   "metadata": {},
   "outputs": [],
   "source": [
    "y_pred = hc(X_test)"
   ]
  },
  {
   "cell_type": "code",
   "execution_count": 32,
   "metadata": {},
   "outputs": [],
   "source": [
    "def argmin_solver(y_pred):\n",
    "    z_star = newsvendor_solve.solve_milp(y_pred, relax=True)\n",
    "    return z_star"
   ]
  },
  {
   "cell_type": "markdown",
   "metadata": {},
   "source": [
    "***\n",
    "$\\mathbf{\\text{Compute the final cost function (average through days) based on made decisions}}$<br>\n",
    "***\n",
    "\n",
    "\\begin{align}\n",
    "PredictedCost = \\frac{1}{N_{days}} \\sum_{I=1}^{N_{days}} f(z^*(\\hat{y_I}),y_I) \n",
    "\\end{align}"
   ]
  },
  {
   "cell_type": "code",
   "execution_count": 33,
   "metadata": {},
   "outputs": [
    {
     "name": "stdout",
     "output_type": "stream",
     "text": [
      "Final cost on Test Data: 60702.91\n"
     ]
    }
   ],
   "source": [
    "pred_cost_22 = cost_fn(y_pred, y_test)\n",
    "print('Final cost on Test Data:', round(pred_cost_22.item(), 2))"
   ]
  },
  {
   "cell_type": "markdown",
   "metadata": {},
   "source": [
    "***\n",
    "$\\mathbf{\\text{Compute the final cost function (average through days) based on BEST decisions}}$<br>\n",
    "***\n",
    "\n",
    "\\begin{align}\n",
    "OptimalCost = \\frac{1}{N_{days}} \\sum_{I=1}^{N_{days}} f(z^*(y_I),y_I) \n",
    "\\end{align}"
   ]
  },
  {
   "cell_type": "code",
   "execution_count": 34,
   "metadata": {},
   "outputs": [
    {
     "name": "stdout",
     "output_type": "stream",
     "text": [
      "Best cost on Test Data: 43062.76\n"
     ]
    }
   ],
   "source": [
    "best2_cost = cost_fn(y_test, y_test)\n",
    "print('Best cost on Test Data:', round(best2_cost.item(), 2))"
   ]
  },
  {
   "cell_type": "markdown",
   "metadata": {},
   "source": [
    "***\n",
    "$\\mathbf{\\text{Compute the cumulative regrets from 2.1 and 2.2}}$<br>\n",
    "***\n",
    "\n",
    "\\begin{align}\n",
    "Regret = PredictedCost - OptimalCost\n",
    "\\end{align}"
   ]
  },
  {
   "cell_type": "code",
   "execution_count": 35,
   "metadata": {},
   "outputs": [
    {
     "name": "stdout",
     "output_type": "stream",
     "text": [
      "Cumulative regret: \n",
      "         2.1 -> 19849 \n",
      "         2.2 -> 17640 \n"
     ]
    }
   ],
   "source": [
    "regret21 = pred_cost_21 - best2_cost\n",
    "regret22 = pred_cost_22 - best2_cost\n",
    "\n",
    "print('Cumulative regret: \\n \\\n",
    "        2.1 -> {regret21} \\n \\\n",
    "        2.2 -> {regret22} \\\n",
    "'.format(\n",
    "    regret21=int(regret21),\n",
    "    regret22=int(regret22)\n",
    "))"
   ]
  },
  {
   "cell_type": "markdown",
   "metadata": {},
   "source": [
    "***\n",
    "$\\mathbf{\\text{Compute the normalized regret from 2.1 and 2.2}}$<br>\n",
    "***\n",
    "\n",
    "\\begin{align}\n",
    "Normalized Regret = \\frac{Regret}{Optimal Cost} \n",
    "\\end{align}"
   ]
  },
  {
   "cell_type": "code",
   "execution_count": 36,
   "metadata": {},
   "outputs": [
    {
     "name": "stdout",
     "output_type": "stream",
     "text": [
      "Normalized regret: \n",
      "         2.1 -> 0.4609449551467 \n",
      "         2.2 -> 0.40963822478325124 \n"
     ]
    }
   ],
   "source": [
    "cr21 = regret21/best2_cost\n",
    "cr22 = regret22/best2_cost\n",
    "\n",
    "print('Normalized regret: \\n \\\n",
    "        2.1 -> {cr21} \\n \\\n",
    "        2.2 -> {cr22} \\\n",
    "'.format(\n",
    "    cr21=cr21,\n",
    "    cr22=cr22\n",
    "))"
   ]
  },
  {
   "cell_type": "markdown",
   "metadata": {},
   "source": [
    "## 3 Adding integrality constraints"
   ]
  },
  {
   "cell_type": "markdown",
   "metadata": {},
   "source": [
    "### 3.1 Adding integrality constraints - Decoupled Approach"
   ]
  },
  {
   "cell_type": "markdown",
   "metadata": {},
   "source": [
    "#### By adding integrality constraints, we aim (at the final moment) to solve the same problem with the parameter relax = False  "
   ]
  },
  {
   "cell_type": "markdown",
   "metadata": {},
   "source": [
    "***\n",
    "$\\mathbf{\\text{Defining the solver as a function of the prediction (with constraints)}}$<br>\n",
    "***\n",
    "\n",
    "\\begin{align}\n",
    "z^*(\\hat{y_I}) = & argmin_z \\text{ } f(z,\\hat{y_I}) \\\\\n",
    "\\text{Subject to } & \\begin{cases}\n",
    "pr^Tz \\leq B \\\\\n",
    "z \\geq 0 \\\\\n",
    "z \\in \\mathbb{Z}\n",
    "\\end{cases}\n",
    "\\end{align}"
   ]
  },
  {
   "cell_type": "code",
   "execution_count": 37,
   "metadata": {},
   "outputs": [],
   "source": [
    "def argmin_solver(y_pred):\n",
    "    z_star = newsvendor_solve.solve_milp(y_pred, relax=False)\n",
    "    return z_star"
   ]
  },
  {
   "cell_type": "markdown",
   "metadata": {},
   "source": [
    "##### The predictions are already done in 1.1 using MSE loss, so we leverage the same predictions\n",
    "\n",
    "***\n",
    "$\\mathbf{\\text{Compute the final cost function (average through days) based on made decisions}}$<br>\n",
    "***\n",
    "\n",
    "\\begin{align}\n",
    "PredictedCost = \\frac{1}{N_{days}} \\sum_{I=1}^{N_{days}} f(z^*(\\hat{y_I}),y_I) \n",
    "\\end{align}"
   ]
  },
  {
   "cell_type": "code",
   "execution_count": 38,
   "metadata": {},
   "outputs": [
    {
     "name": "stdout",
     "output_type": "stream",
     "text": [
      "Final cost on Test Data: 62108.34\n"
     ]
    }
   ],
   "source": [
    "y_pred = h(X_test)\n",
    "pred_cost_31 = cost_fn(y_pred, y_test)\n",
    "print('Final cost on Test Data:', round(pred_cost_31.item(), 2))"
   ]
  },
  {
   "cell_type": "markdown",
   "metadata": {},
   "source": [
    "### 3.2 Adding integrality constraints - Combined Approach"
   ]
  },
  {
   "cell_type": "markdown",
   "metadata": {},
   "source": [
    "#### For each step of the gradient descent we will solve the OP with relax = True after applying the Gomory cuts Aaron Ferber et al. (2019)"
   ]
  },
  {
   "cell_type": "code",
   "execution_count": 39,
   "metadata": {},
   "outputs": [],
   "source": [
    "# Number of maximum cuts for each iteration of the learning\n",
    "N_try_cuts = 100"
   ]
  },
  {
   "cell_type": "code",
   "execution_count": 40,
   "metadata": {},
   "outputs": [],
   "source": [
    "class SolveNewsvendorWithGomoryAndKKT():\n",
    "    def __init__(self, params_t, params_np):\n",
    "        super(SolveNewsvendorWithGomoryAndKKT, self).__init__()\n",
    "            \n",
    "        n_items = len(params_np['c'])\n",
    "        self.n_items = n_items    \n",
    "            \n",
    "        # Numpy parameters for Gomory cuts\n",
    "        self.cost_vector = np.hstack((params_np['c'], params_np['cs'], params_np['cw']))\n",
    "        self.price_ineq_np = np.hstack((params_np['pr'], np.zeros(2*n_items)) )\n",
    "        \n",
    "        # Torch parameters for KKT         \n",
    "        ident = torch.eye(n_items)\n",
    "        ident3 = torch.eye(3*n_items)\n",
    "        zeros_matrix = torch.zeros((n_items, n_items))\n",
    "        zeros_array = torch.zeros(n_items)\n",
    "        ones_array = torch.ones(n_items)\n",
    "             \n",
    "        self.Q = torch.diag(torch.hstack((params_t['q'], params_t['qs'], params_t['qw']))).to(dev)\n",
    "        self.lin = torch.hstack((params_t['c'], params_t['cs'], params_t['cw'])).to(dev)\n",
    "             \n",
    "        shortage_ineq = torch.hstack((-ident, -ident, zeros_matrix))\n",
    "        excess_ineq = torch.hstack((ident, zeros_matrix, -ident))\n",
    "        price_ineq = torch.hstack((params_t['pr'], zeros_array, zeros_array))\n",
    "        positive_ineq = -ident3\n",
    "        \n",
    "        self.ineqs = torch.vstack((shortage_ineq, excess_ineq, price_ineq, positive_ineq)).to(dev)\n",
    "\n",
    "        self.uncert_bound = torch.hstack((-ones_array, ones_array)).to(dev)\n",
    "        self.determ_bound = torch.tensor([params_t['B']]) \n",
    "        self.determ_bound = torch.hstack((self.determ_bound, \n",
    "                                          torch.zeros(n_items), \n",
    "                                          torch.zeros(n_items), \n",
    "                                          torch.zeros(n_items))).to(dev)\n",
    "\n",
    "        \n",
    "    def milp_formulation(self, y_I):\n",
    "        \"\"\"\n",
    "        Formulate the MILP to be used in \"solve_milp\" or in \"forward_gomory_cut\"\n",
    "        The MILP is formulated based on an outcome chunk y_I.\n",
    "        \"\"\"\n",
    "        m = Model(\"milp\")\n",
    "        m.verbose = 0\n",
    "\n",
    "        n_items_range = range(n_items)\n",
    "        n_variables = range(3*n_items)\n",
    "        \n",
    "        z = ([m.add_var(var_type=INTEGER) for i in range(0, n_items)] \n",
    "             + [m.add_var(var_type=CONTINUOUS) for i in range(n_items, 3*n_items)])\n",
    "\n",
    "        # linear objective function\n",
    "        m.objective = minimize(xsum(self.cost_vector[i] * z[i] for i in n_variables))\n",
    "\n",
    "        # all variables greater than zero\n",
    "        for i in n_variables:\n",
    "            m += -z[i] <= 0\n",
    "        # constraints on shortage variables\n",
    "        for i in range(0, n_items):\n",
    "            m += -z[i] - z[i + n_items] <= -y_I[i]\n",
    "        # constraints on excess variables\n",
    "        for i in range(0, n_items):\n",
    "            m += z[i] - z[i + 2*n_items] <= y_I[i]\n",
    "        # constraints on budget\n",
    "        m += xsum(self.price_ineq_np[i] * z[i] for i in n_variables) <= params_np['B']\n",
    "        \n",
    "        return m\n",
    "    \n",
    "    \n",
    "    def one_sample_cuts(self, y_I):\n",
    "        \"\"\"\n",
    "        This function first formulates the MILP and then uses the MILP formulation to \n",
    "        compute and return some Gomory cuts (just for 1 instance of I (day))\n",
    "        \"\"\"\n",
    "        m = self.milp_formulation(y_I)  \n",
    "        n_cuts = 0\n",
    "\n",
    "        for i in range(N_try_cuts):\n",
    "            status = m.optimize(relax = True)\n",
    "            cp = m.generate_cuts([CutType.GOMORY])\n",
    "\n",
    "            if cp.cuts:\n",
    "                if n_cuts + len(cp.cuts) <= N_try_cuts:\n",
    "                    n_cuts = n_cuts + len(cp.cuts)\n",
    "                    m += cp\n",
    "                else:\n",
    "                    break\n",
    "\n",
    "            else:\n",
    "                break\n",
    "\n",
    "\n",
    "        matrix_ineq_cut = np.array([])\n",
    "        array_ineq_bound = np.array([])\n",
    "        for i in range(-n_cuts, 0):\n",
    "            cut = m.constrs[-n_cuts:][i].expr.expr\n",
    "            varslist = list(m.vars)\n",
    "            dict_vars_init = dict(zip(varslist, len(varslist)*[0]))\n",
    "            ineq_cut = {**dict_vars_init, **cut}\n",
    "            values_ineq_cut = np.array(list(ineq_cut.values()))\n",
    "            array_ineq_bound = np.append(array_ineq_bound, -m.constrs[i].expr.const)\n",
    "            if i == -n_cuts:\n",
    "                matrix_ineq_cut = values_ineq_cut\n",
    "            else:\n",
    "                matrix_ineq_cut = np.vstack((matrix_ineq_cut, values_ineq_cut))\n",
    "\n",
    "        # Adding zeros to standardize ineq size\n",
    "        if n_cuts == 0:\n",
    "            matrix_ineq_cut = np.zeros((N_try_cuts-n_cuts, 3*n_items))\n",
    "            array_ineq_bound = np.ones(N_try_cuts-n_cuts)\n",
    "\n",
    "        elif n_cuts < N_try_cuts:\n",
    "            zrsm = np.zeros((N_try_cuts-n_cuts, 3*n_items))\n",
    "            zrsv = np.ones(N_try_cuts-n_cuts)\n",
    "            matrix_ineq_cut = np.vstack((matrix_ineq_cut, zrsm))\n",
    "            array_ineq_bound = np.hstack((array_ineq_bound, zrsv))\n",
    "\n",
    "        else:\n",
    "            pass\n",
    "\n",
    "        array_ineq_bound = array_ineq_bound.reshape(-1)\n",
    "\n",
    "        matrix_ineq_cut = np.expand_dims(matrix_ineq_cut, 0)\n",
    "        array_ineq_bound = np.expand_dims(array_ineq_bound, 0)\n",
    "\n",
    "        cut = np.dstack((matrix_ineq_cut, array_ineq_bound))\n",
    "\n",
    "        return cut\n",
    "\n",
    "    \n",
    "    def forward_gomory_cut(self, y):\n",
    "        \"\"\"\n",
    "        This function applies N_try_cuts in the relaxed version of the MILP\n",
    "        formulation from \"milp_formulation\". The function returns the matrix \"mic\"\n",
    "        and the vector \"aic\" for each \"y_I\". Those outputs represent the cuts in a\n",
    "        form of inequalities mic*z<=aic. \n",
    "        Idea of Gomory cuts from Ferber, Wilder, Dilkina and Tambe (2019).\n",
    "        \"\"\"\n",
    "\n",
    "        y = y.cpu().detach().numpy()\n",
    "        n_batches, n_items = y.shape\n",
    "\n",
    "        mic = np.array([])\n",
    "        aib = np.array([])\n",
    "\n",
    "        cuts = Parallel(n_jobs=-1, backend='multiprocessing')(delayed(self.one_sample_cuts)(y_I) for y_I in y)   \n",
    "        cuts = np.vstack(cuts)\n",
    "        mic = cuts[:,:,:-1]\n",
    "        aic = cuts[:,:,-1]\n",
    "\n",
    "        return torch.tensor(mic), torch.tensor(aic)\n",
    "        \n",
    "       \n",
    "    def forward(self, y):\n",
    "        \"\"\"\n",
    "        Applies the qpth solver for all batches and allows backpropagation.\n",
    "        Formulation based on Priya L. Donti, Brandon Amos, J. Zico Kolter (2017).\n",
    "        Note: The quadratic terms (Q) are used as auxiliar terms only to allow the backpropagation through the \n",
    "        qpth library from Amos and Kolter. \n",
    "        We will set them as a small percentage of the linear terms (Wilder, Ewing, Dilkina, Tambe, 2019)\n",
    "        \"\"\"\n",
    "        \n",
    "        n_batches, n_items = y.size()\n",
    "        \n",
    "        assert self.n_items == n_items \n",
    "\n",
    "        Q = self.Q\n",
    "        Q = Q.expand(n_batches, Q.size(0), Q.size(1))\n",
    "\n",
    "        ineqs = torch.unsqueeze(self.ineqs, dim=0)\n",
    "        ineqs = ineqs.expand(n_batches, ineqs.shape[1], ineqs.shape[2])       \n",
    "\n",
    "        uncert_bound = (self.uncert_bound*torch.hstack((y, y)))\n",
    "        determ_bound = self.determ_bound.unsqueeze(dim=0).expand(\n",
    "            n_batches, self.determ_bound.shape[0])\n",
    "        bound = torch.hstack((uncert_bound, determ_bound))\n",
    "\n",
    "        # Adding the Gomory cuts as constraints\n",
    "        m, b = self.forward_gomory_cut(y)\n",
    "        ineqs = torch.hstack((ineqs, m)).to(dev)\n",
    "        bound = torch.hstack((bound, b)).to(dev)     \n",
    "        \n",
    "        e = torch.DoubleTensor().to(dev)\n",
    "        \n",
    "        argmin = QPFunction(verbose=-1)\\\n",
    "            (Q.double(), self.lin.double(), ineqs.double(), \n",
    "             bound.double(), e, e).double()\n",
    "            \n",
    "        return argmin[:,:n_items]"
   ]
  },
  {
   "cell_type": "markdown",
   "metadata": {},
   "source": [
    "***\n",
    "$\\mathbf{\\text{Defining the solver as a function of the prediction (with constraints)}}$<br>\n",
    "***\n",
    "\n",
    "\\begin{align}\n",
    "z^*(\\hat{y_I}) = & argmin_z \\text{ } f(z,\\hat{y_I}) \\\\\n",
    "\\text{Subject to } & \\begin{cases}\n",
    "pr^Tz \\leq B \\\\\n",
    "z \\geq 0\n",
    "\\end{cases}\n",
    "\\end{align}"
   ]
  },
  {
   "cell_type": "markdown",
   "metadata": {},
   "source": [
    "##### Note that here we still use the relaxed version of the MILP, but considering the gomory cuts. The difference is that the integrality gap will be lower and hopefully the continuous results will becloser to theoptimal integer decision."
   ]
  },
  {
   "cell_type": "code",
   "execution_count": 41,
   "metadata": {},
   "outputs": [],
   "source": [
    "def argmin_solver(y_pred):\n",
    "    z_star = newsvendor_solve_gomory_kkt.forward(y_pred)\n",
    "    return z_star"
   ]
  },
  {
   "cell_type": "code",
   "execution_count": 42,
   "metadata": {},
   "outputs": [],
   "source": [
    "# Combined approach (mse loss)\n",
    "hc = ANN(n_feat=dx).to(dev)\n",
    "opt_hc = torch.optim.Adam(hc.parameters(), lr=0.001)"
   ]
  },
  {
   "cell_type": "code",
   "execution_count": 43,
   "metadata": {},
   "outputs": [],
   "source": [
    "# Construct the solver\n",
    "newsvendor_solve_gomory_kkt = SolveNewsvendorWithGomoryAndKKT(params_t, params_np)"
   ]
  },
  {
   "cell_type": "code",
   "execution_count": 44,
   "metadata": {},
   "outputs": [
    {
     "name": "stdout",
     "output_type": "stream",
     "text": [
      "COMBINED: Train:  f: 75220.92 \tVal:  f: 66352.36\n",
      "COMBINED: Train:  f: 72902.66 \tVal:  f: 64950.24\n",
      "COMBINED: Train:  f: 70832.52 \tVal:  f: 62419.87\n",
      "COMBINED: Train:  f: 69827.22 \tVal:  f: 59667.93\n",
      "COMBINED: Train:  f: 67930.4 \tVal:  f: 59214.15\n",
      "COMBINED: Train:  f: 65791.73 \tVal:  f: 58835.27\n",
      "COMBINED: Train:  f: 65648.29 \tVal:  f: 56360.7\n",
      "COMBINED: Train:  f: 65164.06 \tVal:  f: 57674.6\n",
      "COMBINED: Train:  f: 63998.85 \tVal:  f: 55877.6\n",
      "COMBINED: Train:  f: 64198.85 \tVal:  f: 54304.3\n",
      "COMBINED: Train:  f: 64130.82 \tVal:  f: 55763.61\n",
      "COMBINED: Train:  f: 63405.32 \tVal:  f: 55050.65\n",
      "COMBINED: Train:  f: 63305.62 \tVal:  f: 55774.28\n",
      "COMBINED: Train:  f: 63914.42 \tVal:  f: 56269.74\n",
      "COMBINED: Train:  f: 64185.64 \tVal:  f: 55076.55\n",
      "COMBINED: Train:  f: 63291.73 \tVal:  f: 54973.45\n",
      "COMBINED: Train:  f: 63742.56 \tVal:  f: 55377.19\n",
      "COMBINED: Train:  f: 63095.78 \tVal:  f: 54128.57\n",
      "COMBINED: Train:  f: 62512.71 \tVal:  f: 54903.23\n",
      "COMBINED: Train:  f: 63098.6 \tVal:  f: 53912.68\n"
     ]
    }
   ],
   "source": [
    "n_epochs = 20\n",
    "\n",
    "obj_costs_com = []\n",
    "\n",
    "for i in range(0, n_epochs):\n",
    "    train_one_epoch(X_train, y_train, cost_fn, opt_hc, hc)\n",
    "    \n",
    "    f_train = validate_one_epoch(X_train, y_train, hc, data_train)\n",
    "    f_val = validate_one_epoch(X_val, y_val, hc, data_val)\n",
    "\n",
    "    print(\n",
    "              'COMBINED: Train: ', \n",
    "               'f:', round(f_train.data.item(), 2), \n",
    "               '\\tVal: ', \n",
    "               'f:', round(f_val.data.item(), 2))"
   ]
  },
  {
   "cell_type": "code",
   "execution_count": 45,
   "metadata": {},
   "outputs": [],
   "source": [
    "y_pred = hc(X_test)"
   ]
  },
  {
   "cell_type": "markdown",
   "metadata": {},
   "source": [
    "***\n",
    "$\\mathbf{\\text{Defining the solver as a function of the prediction (with constraints)}}$<br>\n",
    "***\n",
    "\n",
    "\\begin{align}\n",
    "z^*(\\hat{y_I}) = & argmin_z \\text{ } f(z,\\hat{y_I}) \\\\\n",
    "\\text{Subject to } & \\begin{cases}\n",
    "pr^Tz \\leq B \\\\\n",
    "z \\geq 0 \\\\\n",
    "z \\in \\mathbb{Z}\n",
    "\\end{cases}\n",
    "\\end{align}"
   ]
  },
  {
   "cell_type": "code",
   "execution_count": 46,
   "metadata": {},
   "outputs": [],
   "source": [
    "def argmin_solver(y_pred):\n",
    "    z_star = newsvendor_solve.solve_milp(y_pred, relax=False)\n",
    "    return z_star"
   ]
  },
  {
   "cell_type": "markdown",
   "metadata": {},
   "source": [
    "##### After training hc we need to compute the final decisions. And now the final decisions need to be integers (relax = False)"
   ]
  },
  {
   "cell_type": "markdown",
   "metadata": {},
   "source": [
    "***\n",
    "$\\mathbf{\\text{Compute the final cost function (average through days) based on made decisions}}$<br>\n",
    "***\n",
    "\n",
    "\\begin{align}\n",
    "PredictedCost = \\frac{1}{N_{days}} \\sum_{I=1}^{N_{days}} f(z^*(\\hat{y_I}),y_I) \n",
    "\\end{align}"
   ]
  },
  {
   "cell_type": "code",
   "execution_count": 47,
   "metadata": {},
   "outputs": [
    {
     "name": "stdout",
     "output_type": "stream",
     "text": [
      "Final cost on Test Data: 61235.65\n"
     ]
    }
   ],
   "source": [
    "pred_cost_32 = cost_fn(y_pred, y_test)\n",
    "print('Final cost on Test Data:', round(pred_cost_32.item(), 2))"
   ]
  },
  {
   "cell_type": "markdown",
   "metadata": {},
   "source": [
    "***\n",
    "$\\mathbf{\\text{Compute the final cost function (average through days) based on BEST decisions}}$<br>\n",
    "***\n",
    "\n",
    "\\begin{align}\n",
    "OptimalCost=\\frac{1}{N_{days}} \\sum_{I=1}^{N_{days}} f(z^*(y_I),y_I) \n",
    "\\end{align}"
   ]
  },
  {
   "cell_type": "code",
   "execution_count": 48,
   "metadata": {},
   "outputs": [
    {
     "name": "stdout",
     "output_type": "stream",
     "text": [
      "Best cost on Test Data: 43811.66\n"
     ]
    }
   ],
   "source": [
    "best3_cost = cost_fn(y_test, y_test)\n",
    "print('Best cost on Test Data:', round(best3_cost.item(), 2))"
   ]
  },
  {
   "cell_type": "markdown",
   "metadata": {},
   "source": [
    "***\n",
    "$\\mathbf{\\text{Compute the cumulative regrets from 3.1 and 3.2}}$<br>\n",
    "***\n",
    "\n",
    "\\begin{align}\n",
    "Regret = PredictedCost-OptimalCost\n",
    "\\end{align}"
   ]
  },
  {
   "cell_type": "code",
   "execution_count": 49,
   "metadata": {},
   "outputs": [
    {
     "name": "stdout",
     "output_type": "stream",
     "text": [
      "Cumulative regret: \n",
      "         3.1 -> 18296 \n",
      "         3.2 -> 17423  \n"
     ]
    }
   ],
   "source": [
    "regret31 = pred_cost_31 - best3_cost\n",
    "regret32 = pred_cost_32 - best3_cost\n",
    "\n",
    "print('Cumulative regret: \\n \\\n",
    "        3.1 -> {regret31} \\n \\\n",
    "        3.2 -> {regret32}  \\\n",
    "'.format(\n",
    "    regret31=int(regret31),\n",
    "    regret32=int(regret32),\n",
    "))"
   ]
  },
  {
   "cell_type": "markdown",
   "metadata": {},
   "source": [
    "***\n",
    "$\\mathbf{\\text{Compute the normalized regret from 3.1 and 3.2}}$<br>\n",
    "***\n",
    "\n",
    "\\begin{align}\n",
    "Normalized Regret = \\frac{Regret}{Optimal Cost} \n",
    "\\end{align}"
   ]
  },
  {
   "cell_type": "code",
   "execution_count": 50,
   "metadata": {},
   "outputs": [
    {
     "name": "stdout",
     "output_type": "stream",
     "text": [
      "Normalized regret: \n",
      "         3.1 -> 0.4176213654071544 \n",
      "         3.2 -> 0.3977022202187335  \n"
     ]
    }
   ],
   "source": [
    "cr31 = regret31/best3_cost\n",
    "cr32 = regret32/best3_cost\n",
    "\n",
    "print('Normalized regret: \\n \\\n",
    "        3.1 -> {cr31} \\n \\\n",
    "        3.2 -> {cr32}  \\\n",
    "'.format(\n",
    "    cr31=cr31,\n",
    "    cr32=cr32\n",
    "))"
   ]
  },
  {
   "cell_type": "markdown",
   "metadata": {},
   "source": [
    "## Conclusion and ideas to practitioners:\n",
    "\n",
    "#### 1. Perks of Decoupled Approaches -> Time saver\n",
    "Decoupled approaches run much faster than combined approaches. Notice that we truncate the data to work only with 50 random items. This is because for state-of-the-art combined approaches we need to use Mathematical Programming techniques iteratively, and it takes too much time mainly if the Optimization Problem is too complex. \n",
    "\n",
    "#### 2. Perks of Combined Approaches -> Money saver\n",
    "Comparing the final results, we normally have (we tested with many different parameters and we consistently had) lower regret using combined approaches. This is expected since the loss function is more aligned with the final goal.\n",
    "\n",
    "#### 3. Mixing Decoupled and Combined approaches\n",
    "We suggest the practitioner to try first updating the weight of the ANN using the MSE loss (1.1 training part). And then start the training using the KKT method (2.2 training part) loading the previous ways. This idea (not with KKT differentiation, but with other methods) was proposed by Mandi et al. (2020)\n",
    "\n",
    "#### 4. Early Stopping\n",
    "One can design the algorithm to stop based on the final operational cost (even though using decoupled approach). Notice that doing that requires to solve an Optimization Problem iteratively as well, but it does not require to solve the OP in every iteration. This technique will probably improve mainly the decoupled approaches results."
   ]
  }
 ],
 "metadata": {
  "kernelspec": {
   "display_name": "pao_env",
   "language": "python",
   "name": "pao_env"
  },
  "language_info": {
   "codemirror_mode": {
    "name": "ipython",
    "version": 3
   },
   "file_extension": ".py",
   "mimetype": "text/x-python",
   "name": "python",
   "nbconvert_exporter": "python",
   "pygments_lexer": "ipython3",
   "version": "3.8.10"
  }
 },
 "nbformat": 4,
 "nbformat_minor": 4
}
